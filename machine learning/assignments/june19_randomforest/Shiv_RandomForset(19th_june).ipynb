{
  "nbformat": 4,
  "nbformat_minor": 0,
  "metadata": {
    "colab": {
      "name": "Shiv_RandomForset(19th june).ipynb",
      "provenance": [],
      "collapsed_sections": [],
      "toc_visible": true
    },
    "kernelspec": {
      "name": "python3",
      "display_name": "Python 3"
    },
    "language_info": {
      "name": "python"
    }
  },
  "cells": [
    {
      "cell_type": "code",
      "metadata": {
        "id": "R9QOdAhQpnlR"
      },
      "source": [
        "import pandas as pd\n",
        "import numpy as np\n",
        "import sklearn\n",
        "from sklearn import model_selection\n",
        "import seaborn as sns"
      ],
      "execution_count": null,
      "outputs": []
    },
    {
      "cell_type": "markdown",
      "metadata": {
        "id": "jToLPs76HNhu"
      },
      "source": [
        "#### 1: (1,2), (2,4), (3,6),(8,9),(1,10),(14,3), (9,0), (10,0),.....\n",
        "\n",
        "   create 20 dataset in above structure and divide in 3 group"
      ]
    },
    {
      "cell_type": "code",
      "metadata": {
        "colab": {
          "base_uri": "https://localhost:8080/"
        },
        "id": "7Prf_ha0GxYF",
        "outputId": "5871ae9e-59f3-482f-e934-9943b439d38b"
      },
      "source": [
        "import random\n",
        "list1 = [tuple([random.randint(0,10) for j in range(2)]) for i in range(20)]\n",
        "print(list1)"
      ],
      "execution_count": null,
      "outputs": [
        {
          "output_type": "stream",
          "text": [
            "[(7, 0), (1, 3), (6, 0), (3, 0), (0, 9), (3, 10), (4, 5), (0, 8), (0, 9), (0, 1), (8, 10), (0, 9), (3, 3), (9, 4), (6, 2), (1, 5), (7, 5), (3, 5), (6, 6), (8, 4)]\n"
          ],
          "name": "stdout"
        }
      ]
    },
    {
      "cell_type": "code",
      "metadata": {
        "colab": {
          "base_uri": "https://localhost:8080/"
        },
        "id": "s3P8QFwfnjKK",
        "outputId": "ee526727-d340-48cc-8c35-8917a8e88162"
      },
      "source": [
        "c1 = tuple([random.randint(0,10) for j in range(2)])\n",
        "c2 = tuple([random.randint(0,10) for j in range(2)])\n",
        "c3 = tuple([random.randint(0,10) for j in range(2)])\n",
        "c1,c2,c3"
      ],
      "execution_count": null,
      "outputs": [
        {
          "output_type": "execute_result",
          "data": {
            "text/plain": [
              "((6, 6), (8, 1), (5, 8))"
            ]
          },
          "metadata": {
            "tags": []
          },
          "execution_count": 16
        }
      ]
    },
    {
      "cell_type": "code",
      "metadata": {
        "id": "cBWR1TKZo74z"
      },
      "source": [
        "dataset1 = pd.DataFrame(0, index=np.arange(0,20), columns=[\"points\",\"c1\",\"c2\",\"c3\",\"category\"])\n",
        "dataset1[\"points\"] = list1"
      ],
      "execution_count": null,
      "outputs": []
    },
    {
      "cell_type": "code",
      "metadata": {
        "colab": {
          "base_uri": "https://localhost:8080/",
          "height": 669
        },
        "id": "1OSMuF2m679b",
        "outputId": "210c9c05-6e7e-44d0-a461-2fe85f24eb41"
      },
      "source": [
        "dataset1"
      ],
      "execution_count": null,
      "outputs": [
        {
          "output_type": "execute_result",
          "data": {
            "text/html": [
              "<div>\n",
              "<style scoped>\n",
              "    .dataframe tbody tr th:only-of-type {\n",
              "        vertical-align: middle;\n",
              "    }\n",
              "\n",
              "    .dataframe tbody tr th {\n",
              "        vertical-align: top;\n",
              "    }\n",
              "\n",
              "    .dataframe thead th {\n",
              "        text-align: right;\n",
              "    }\n",
              "</style>\n",
              "<table border=\"1\" class=\"dataframe\">\n",
              "  <thead>\n",
              "    <tr style=\"text-align: right;\">\n",
              "      <th></th>\n",
              "      <th>points</th>\n",
              "      <th>c1</th>\n",
              "      <th>c2</th>\n",
              "      <th>c3</th>\n",
              "      <th>category</th>\n",
              "    </tr>\n",
              "  </thead>\n",
              "  <tbody>\n",
              "    <tr>\n",
              "      <th>0</th>\n",
              "      <td>(7, 0)</td>\n",
              "      <td>0</td>\n",
              "      <td>0</td>\n",
              "      <td>0</td>\n",
              "      <td>0</td>\n",
              "    </tr>\n",
              "    <tr>\n",
              "      <th>1</th>\n",
              "      <td>(1, 3)</td>\n",
              "      <td>0</td>\n",
              "      <td>0</td>\n",
              "      <td>0</td>\n",
              "      <td>0</td>\n",
              "    </tr>\n",
              "    <tr>\n",
              "      <th>2</th>\n",
              "      <td>(6, 0)</td>\n",
              "      <td>0</td>\n",
              "      <td>0</td>\n",
              "      <td>0</td>\n",
              "      <td>0</td>\n",
              "    </tr>\n",
              "    <tr>\n",
              "      <th>3</th>\n",
              "      <td>(3, 0)</td>\n",
              "      <td>0</td>\n",
              "      <td>0</td>\n",
              "      <td>0</td>\n",
              "      <td>0</td>\n",
              "    </tr>\n",
              "    <tr>\n",
              "      <th>4</th>\n",
              "      <td>(0, 9)</td>\n",
              "      <td>0</td>\n",
              "      <td>0</td>\n",
              "      <td>0</td>\n",
              "      <td>0</td>\n",
              "    </tr>\n",
              "    <tr>\n",
              "      <th>5</th>\n",
              "      <td>(3, 10)</td>\n",
              "      <td>0</td>\n",
              "      <td>0</td>\n",
              "      <td>0</td>\n",
              "      <td>0</td>\n",
              "    </tr>\n",
              "    <tr>\n",
              "      <th>6</th>\n",
              "      <td>(4, 5)</td>\n",
              "      <td>0</td>\n",
              "      <td>0</td>\n",
              "      <td>0</td>\n",
              "      <td>0</td>\n",
              "    </tr>\n",
              "    <tr>\n",
              "      <th>7</th>\n",
              "      <td>(0, 8)</td>\n",
              "      <td>0</td>\n",
              "      <td>0</td>\n",
              "      <td>0</td>\n",
              "      <td>0</td>\n",
              "    </tr>\n",
              "    <tr>\n",
              "      <th>8</th>\n",
              "      <td>(0, 9)</td>\n",
              "      <td>0</td>\n",
              "      <td>0</td>\n",
              "      <td>0</td>\n",
              "      <td>0</td>\n",
              "    </tr>\n",
              "    <tr>\n",
              "      <th>9</th>\n",
              "      <td>(0, 1)</td>\n",
              "      <td>0</td>\n",
              "      <td>0</td>\n",
              "      <td>0</td>\n",
              "      <td>0</td>\n",
              "    </tr>\n",
              "    <tr>\n",
              "      <th>10</th>\n",
              "      <td>(8, 10)</td>\n",
              "      <td>0</td>\n",
              "      <td>0</td>\n",
              "      <td>0</td>\n",
              "      <td>0</td>\n",
              "    </tr>\n",
              "    <tr>\n",
              "      <th>11</th>\n",
              "      <td>(0, 9)</td>\n",
              "      <td>0</td>\n",
              "      <td>0</td>\n",
              "      <td>0</td>\n",
              "      <td>0</td>\n",
              "    </tr>\n",
              "    <tr>\n",
              "      <th>12</th>\n",
              "      <td>(3, 3)</td>\n",
              "      <td>0</td>\n",
              "      <td>0</td>\n",
              "      <td>0</td>\n",
              "      <td>0</td>\n",
              "    </tr>\n",
              "    <tr>\n",
              "      <th>13</th>\n",
              "      <td>(9, 4)</td>\n",
              "      <td>0</td>\n",
              "      <td>0</td>\n",
              "      <td>0</td>\n",
              "      <td>0</td>\n",
              "    </tr>\n",
              "    <tr>\n",
              "      <th>14</th>\n",
              "      <td>(6, 2)</td>\n",
              "      <td>0</td>\n",
              "      <td>0</td>\n",
              "      <td>0</td>\n",
              "      <td>0</td>\n",
              "    </tr>\n",
              "    <tr>\n",
              "      <th>15</th>\n",
              "      <td>(1, 5)</td>\n",
              "      <td>0</td>\n",
              "      <td>0</td>\n",
              "      <td>0</td>\n",
              "      <td>0</td>\n",
              "    </tr>\n",
              "    <tr>\n",
              "      <th>16</th>\n",
              "      <td>(7, 5)</td>\n",
              "      <td>0</td>\n",
              "      <td>0</td>\n",
              "      <td>0</td>\n",
              "      <td>0</td>\n",
              "    </tr>\n",
              "    <tr>\n",
              "      <th>17</th>\n",
              "      <td>(3, 5)</td>\n",
              "      <td>0</td>\n",
              "      <td>0</td>\n",
              "      <td>0</td>\n",
              "      <td>0</td>\n",
              "    </tr>\n",
              "    <tr>\n",
              "      <th>18</th>\n",
              "      <td>(6, 6)</td>\n",
              "      <td>0</td>\n",
              "      <td>0</td>\n",
              "      <td>0</td>\n",
              "      <td>0</td>\n",
              "    </tr>\n",
              "    <tr>\n",
              "      <th>19</th>\n",
              "      <td>(8, 4)</td>\n",
              "      <td>0</td>\n",
              "      <td>0</td>\n",
              "      <td>0</td>\n",
              "      <td>0</td>\n",
              "    </tr>\n",
              "  </tbody>\n",
              "</table>\n",
              "</div>"
            ],
            "text/plain": [
              "     points  c1  c2  c3  category\n",
              "0    (7, 0)   0   0   0         0\n",
              "1    (1, 3)   0   0   0         0\n",
              "2    (6, 0)   0   0   0         0\n",
              "3    (3, 0)   0   0   0         0\n",
              "4    (0, 9)   0   0   0         0\n",
              "5   (3, 10)   0   0   0         0\n",
              "6    (4, 5)   0   0   0         0\n",
              "7    (0, 8)   0   0   0         0\n",
              "8    (0, 9)   0   0   0         0\n",
              "9    (0, 1)   0   0   0         0\n",
              "10  (8, 10)   0   0   0         0\n",
              "11   (0, 9)   0   0   0         0\n",
              "12   (3, 3)   0   0   0         0\n",
              "13   (9, 4)   0   0   0         0\n",
              "14   (6, 2)   0   0   0         0\n",
              "15   (1, 5)   0   0   0         0\n",
              "16   (7, 5)   0   0   0         0\n",
              "17   (3, 5)   0   0   0         0\n",
              "18   (6, 6)   0   0   0         0\n",
              "19   (8, 4)   0   0   0         0"
            ]
          },
          "metadata": {
            "tags": []
          },
          "execution_count": 18
        }
      ]
    },
    {
      "cell_type": "code",
      "metadata": {
        "colab": {
          "base_uri": "https://localhost:8080/"
        },
        "id": "R_kaZBOcsTW2",
        "outputId": "900e15d5-6844-4d07-de50-4edea3b77ab8"
      },
      "source": [
        "dict1 = {'c1': c1,'c2': c2,'c3': c3 }\n",
        "dict1"
      ],
      "execution_count": null,
      "outputs": [
        {
          "output_type": "execute_result",
          "data": {
            "text/plain": [
              "{'c1': (6, 6), 'c2': (8, 1), 'c3': (5, 8)}"
            ]
          },
          "metadata": {
            "tags": []
          },
          "execution_count": 19
        }
      ]
    },
    {
      "cell_type": "code",
      "metadata": {
        "id": "3CPx952yo71W"
      },
      "source": [
        "# dist_cal = lambda p1,p2: ((p1[0]-p2[0])**2 + (p1[1]-p2[1])**2)**(1/2) \n",
        "# for i in range(len(dataset1)):\n",
        "#   dataset1.loc[i,\"c1\"] = dist_cal(dataset1.loc[i,\"points\"],dict1[\"c1\"])\n",
        "#   dataset1.loc[i,\"c2\"] = dist_cal(dataset1.loc[i,\"points\"],dict1[\"c2\"])\n",
        "#   dataset1.loc[i,\"c3\"] = dist_cal(dataset1.loc[i,\"points\"],dict1[\"c3\"])"
      ],
      "execution_count": null,
      "outputs": []
    },
    {
      "cell_type": "code",
      "metadata": {
        "id": "ei90ubIeveRA"
      },
      "source": [
        "def get_dataset(data,dict1): \n",
        "  dist_cal = lambda p1,p2: ((p1[0]-p2[0])**2 + (p1[1]-p2[1])**2)**(1/2) \n",
        "  for i in dict1.keys():\n",
        "    for j in range(len(data)):\n",
        "      data.loc[j,i] = dist_cal(data.loc[j,\"points\"],dict1[i])\n",
        "  return data"
      ],
      "execution_count": null,
      "outputs": []
    },
    {
      "cell_type": "code",
      "metadata": {
        "id": "Mz41MYrg7qeS"
      },
      "source": [
        "def mean_pts(list_pt):\n",
        "  ls1, ls2 = [], []\n",
        "  for i in list_pt:\n",
        "   ls1.append(i[0])\n",
        "   ls2.append(i[1])\n",
        "  a = sum(ls1)/len(ls1)\n",
        "  b = sum(ls2)/len(ls2)\n",
        "  return (a,b)"
      ],
      "execution_count": null,
      "outputs": []
    },
    {
      "cell_type": "code",
      "metadata": {
        "id": "oxdiqsgqwe0e"
      },
      "source": [
        "dataset1 = get_dataset(dataset1,dict1)"
      ],
      "execution_count": null,
      "outputs": []
    },
    {
      "cell_type": "code",
      "metadata": {
        "colab": {
          "base_uri": "https://localhost:8080/",
          "height": 669
        },
        "id": "9QLkW9Bho7sB",
        "outputId": "05c422b7-248d-46a7-a16d-79ef660c0d83"
      },
      "source": [
        "# Reference: https://pandas.pydata.org/pandas-docs/stable/reference/api/pandas.DataFrame.min.html\n",
        "dataset1[\"category\"] = dataset1[[\"c1\",\"c2\",\"c3\"]].idxmin(axis=1)\n",
        "dataset1"
      ],
      "execution_count": null,
      "outputs": [
        {
          "output_type": "execute_result",
          "data": {
            "text/html": [
              "<div>\n",
              "<style scoped>\n",
              "    .dataframe tbody tr th:only-of-type {\n",
              "        vertical-align: middle;\n",
              "    }\n",
              "\n",
              "    .dataframe tbody tr th {\n",
              "        vertical-align: top;\n",
              "    }\n",
              "\n",
              "    .dataframe thead th {\n",
              "        text-align: right;\n",
              "    }\n",
              "</style>\n",
              "<table border=\"1\" class=\"dataframe\">\n",
              "  <thead>\n",
              "    <tr style=\"text-align: right;\">\n",
              "      <th></th>\n",
              "      <th>points</th>\n",
              "      <th>c1</th>\n",
              "      <th>c2</th>\n",
              "      <th>c3</th>\n",
              "      <th>category</th>\n",
              "    </tr>\n",
              "  </thead>\n",
              "  <tbody>\n",
              "    <tr>\n",
              "      <th>0</th>\n",
              "      <td>(7, 0)</td>\n",
              "      <td>6.082763</td>\n",
              "      <td>1.414214</td>\n",
              "      <td>8.246211</td>\n",
              "      <td>c2</td>\n",
              "    </tr>\n",
              "    <tr>\n",
              "      <th>1</th>\n",
              "      <td>(1, 3)</td>\n",
              "      <td>5.830952</td>\n",
              "      <td>7.280110</td>\n",
              "      <td>6.403124</td>\n",
              "      <td>c1</td>\n",
              "    </tr>\n",
              "    <tr>\n",
              "      <th>2</th>\n",
              "      <td>(6, 0)</td>\n",
              "      <td>6.000000</td>\n",
              "      <td>2.236068</td>\n",
              "      <td>8.062258</td>\n",
              "      <td>c2</td>\n",
              "    </tr>\n",
              "    <tr>\n",
              "      <th>3</th>\n",
              "      <td>(3, 0)</td>\n",
              "      <td>6.708204</td>\n",
              "      <td>5.099020</td>\n",
              "      <td>8.246211</td>\n",
              "      <td>c2</td>\n",
              "    </tr>\n",
              "    <tr>\n",
              "      <th>4</th>\n",
              "      <td>(0, 9)</td>\n",
              "      <td>6.708204</td>\n",
              "      <td>11.313708</td>\n",
              "      <td>5.099020</td>\n",
              "      <td>c3</td>\n",
              "    </tr>\n",
              "    <tr>\n",
              "      <th>5</th>\n",
              "      <td>(3, 10)</td>\n",
              "      <td>5.000000</td>\n",
              "      <td>10.295630</td>\n",
              "      <td>2.828427</td>\n",
              "      <td>c3</td>\n",
              "    </tr>\n",
              "    <tr>\n",
              "      <th>6</th>\n",
              "      <td>(4, 5)</td>\n",
              "      <td>2.236068</td>\n",
              "      <td>5.656854</td>\n",
              "      <td>3.162278</td>\n",
              "      <td>c1</td>\n",
              "    </tr>\n",
              "    <tr>\n",
              "      <th>7</th>\n",
              "      <td>(0, 8)</td>\n",
              "      <td>6.324555</td>\n",
              "      <td>10.630146</td>\n",
              "      <td>5.000000</td>\n",
              "      <td>c3</td>\n",
              "    </tr>\n",
              "    <tr>\n",
              "      <th>8</th>\n",
              "      <td>(0, 9)</td>\n",
              "      <td>6.708204</td>\n",
              "      <td>11.313708</td>\n",
              "      <td>5.099020</td>\n",
              "      <td>c3</td>\n",
              "    </tr>\n",
              "    <tr>\n",
              "      <th>9</th>\n",
              "      <td>(0, 1)</td>\n",
              "      <td>7.810250</td>\n",
              "      <td>8.000000</td>\n",
              "      <td>8.602325</td>\n",
              "      <td>c1</td>\n",
              "    </tr>\n",
              "    <tr>\n",
              "      <th>10</th>\n",
              "      <td>(8, 10)</td>\n",
              "      <td>4.472136</td>\n",
              "      <td>9.000000</td>\n",
              "      <td>3.605551</td>\n",
              "      <td>c3</td>\n",
              "    </tr>\n",
              "    <tr>\n",
              "      <th>11</th>\n",
              "      <td>(0, 9)</td>\n",
              "      <td>6.708204</td>\n",
              "      <td>11.313708</td>\n",
              "      <td>5.099020</td>\n",
              "      <td>c3</td>\n",
              "    </tr>\n",
              "    <tr>\n",
              "      <th>12</th>\n",
              "      <td>(3, 3)</td>\n",
              "      <td>4.242641</td>\n",
              "      <td>5.385165</td>\n",
              "      <td>5.385165</td>\n",
              "      <td>c1</td>\n",
              "    </tr>\n",
              "    <tr>\n",
              "      <th>13</th>\n",
              "      <td>(9, 4)</td>\n",
              "      <td>3.605551</td>\n",
              "      <td>3.162278</td>\n",
              "      <td>5.656854</td>\n",
              "      <td>c2</td>\n",
              "    </tr>\n",
              "    <tr>\n",
              "      <th>14</th>\n",
              "      <td>(6, 2)</td>\n",
              "      <td>4.000000</td>\n",
              "      <td>2.236068</td>\n",
              "      <td>6.082763</td>\n",
              "      <td>c2</td>\n",
              "    </tr>\n",
              "    <tr>\n",
              "      <th>15</th>\n",
              "      <td>(1, 5)</td>\n",
              "      <td>5.099020</td>\n",
              "      <td>8.062258</td>\n",
              "      <td>5.000000</td>\n",
              "      <td>c3</td>\n",
              "    </tr>\n",
              "    <tr>\n",
              "      <th>16</th>\n",
              "      <td>(7, 5)</td>\n",
              "      <td>1.414214</td>\n",
              "      <td>4.123106</td>\n",
              "      <td>3.605551</td>\n",
              "      <td>c1</td>\n",
              "    </tr>\n",
              "    <tr>\n",
              "      <th>17</th>\n",
              "      <td>(3, 5)</td>\n",
              "      <td>3.162278</td>\n",
              "      <td>6.403124</td>\n",
              "      <td>3.605551</td>\n",
              "      <td>c1</td>\n",
              "    </tr>\n",
              "    <tr>\n",
              "      <th>18</th>\n",
              "      <td>(6, 6)</td>\n",
              "      <td>0.000000</td>\n",
              "      <td>5.385165</td>\n",
              "      <td>2.236068</td>\n",
              "      <td>c1</td>\n",
              "    </tr>\n",
              "    <tr>\n",
              "      <th>19</th>\n",
              "      <td>(8, 4)</td>\n",
              "      <td>2.828427</td>\n",
              "      <td>3.000000</td>\n",
              "      <td>5.000000</td>\n",
              "      <td>c1</td>\n",
              "    </tr>\n",
              "  </tbody>\n",
              "</table>\n",
              "</div>"
            ],
            "text/plain": [
              "     points        c1         c2        c3 category\n",
              "0    (7, 0)  6.082763   1.414214  8.246211       c2\n",
              "1    (1, 3)  5.830952   7.280110  6.403124       c1\n",
              "2    (6, 0)  6.000000   2.236068  8.062258       c2\n",
              "3    (3, 0)  6.708204   5.099020  8.246211       c2\n",
              "4    (0, 9)  6.708204  11.313708  5.099020       c3\n",
              "5   (3, 10)  5.000000  10.295630  2.828427       c3\n",
              "6    (4, 5)  2.236068   5.656854  3.162278       c1\n",
              "7    (0, 8)  6.324555  10.630146  5.000000       c3\n",
              "8    (0, 9)  6.708204  11.313708  5.099020       c3\n",
              "9    (0, 1)  7.810250   8.000000  8.602325       c1\n",
              "10  (8, 10)  4.472136   9.000000  3.605551       c3\n",
              "11   (0, 9)  6.708204  11.313708  5.099020       c3\n",
              "12   (3, 3)  4.242641   5.385165  5.385165       c1\n",
              "13   (9, 4)  3.605551   3.162278  5.656854       c2\n",
              "14   (6, 2)  4.000000   2.236068  6.082763       c2\n",
              "15   (1, 5)  5.099020   8.062258  5.000000       c3\n",
              "16   (7, 5)  1.414214   4.123106  3.605551       c1\n",
              "17   (3, 5)  3.162278   6.403124  3.605551       c1\n",
              "18   (6, 6)  0.000000   5.385165  2.236068       c1\n",
              "19   (8, 4)  2.828427   3.000000  5.000000       c1"
            ]
          },
          "metadata": {
            "tags": []
          },
          "execution_count": 24
        }
      ]
    },
    {
      "cell_type": "code",
      "metadata": {
        "colab": {
          "base_uri": "https://localhost:8080/"
        },
        "id": "nthnsUJNhwT1",
        "outputId": "c827658d-76fe-4b35-a103-e2247de224f9"
      },
      "source": [
        "dataset1.category.value_counts()"
      ],
      "execution_count": null,
      "outputs": [
        {
          "output_type": "execute_result",
          "data": {
            "text/plain": [
              "c1    8\n",
              "c3    7\n",
              "c2    5\n",
              "Name: category, dtype: int64"
            ]
          },
          "metadata": {
            "tags": []
          },
          "execution_count": 25
        }
      ]
    },
    {
      "cell_type": "code",
      "metadata": {
        "colab": {
          "base_uri": "https://localhost:8080/"
        },
        "id": "CPtZyvRSzn2f",
        "outputId": "210d1a99-bce9-47f5-ac93-2795130a76f6"
      },
      "source": [
        "dict2 = dict()\n",
        "for i in dataset1.category.value_counts().index:\n",
        " dict2[i] = dataset1.category.value_counts()[i]\n",
        "print(dict2)\n"
      ],
      "execution_count": null,
      "outputs": [
        {
          "output_type": "stream",
          "text": [
            "{'c1': 8, 'c3': 7, 'c2': 5}\n"
          ],
          "name": "stdout"
        }
      ]
    },
    {
      "cell_type": "code",
      "metadata": {
        "colab": {
          "base_uri": "https://localhost:8080/"
        },
        "id": "mViQBEal_jAa",
        "outputId": "9bc5d959-b0d1-4472-d071-f4f21594a76f"
      },
      "source": [
        "num = True\n",
        "while num:\n",
        "  if abs(dict2['c1']-dict2['c2'])<=1 and abs(dict2['c1']-dict2['c3'])<=1 and abs(dict2['c2']-dict2['c3'])<=1:\n",
        "    num = False\n",
        "  else:\n",
        "    for i in dataset1['category'].unique():\n",
        "      dict1[i] = mean_pts(dataset1[dataset1['category']==i].points.values)\n",
        "    # print(dict1)\n",
        "    dataset1 = get_dataset(dataset1,dict1)\n",
        "    dataset1[\"category\"] = dataset1[[\"c1\",\"c2\",\"c3\"]].idxmin(axis=1)\n",
        "    print(dataset1)\n",
        "    dict2 = dict()\n",
        "    for i in dataset1.category.value_counts().index:\n",
        "     dict2[i] = dataset1.category.value_counts()[i]\n",
        "    print(dict2)"
      ],
      "execution_count": null,
      "outputs": [
        {
          "output_type": "stream",
          "text": [
            "     points        c1        c2         c3 category\n",
            "0    (7, 0)  5.000000  1.442221  10.070162       c2\n",
            "1    (1, 3)  3.162278  5.502727   5.617030       c1\n",
            "2    (6, 0)  4.472136  1.216553   9.583148       c2\n",
            "3    (3, 0)  4.123106  3.417601   8.667321       c2\n",
            "4    (0, 9)  6.403124  9.963935   1.767045       c3\n",
            "5   (3, 10)  6.082763  9.363760   1.921946       c3\n",
            "6    (4, 5)  1.000000  4.390900   4.240235       c1\n",
            "7    (0, 8)  5.656854  9.202174   1.807016       c3\n",
            "8    (0, 9)  6.403124  9.963935   1.767045       c3\n",
            "9    (0, 1)  5.000000  6.203225   7.763073       c1\n",
            "10  (8, 10)  7.211103  8.982205   6.446008       c3\n",
            "11   (0, 9)  6.403124  9.963935   1.767045       c3\n",
            "12   (3, 3)  1.414214  3.671512   5.717856       c1\n",
            "13   (9, 4)  5.000000  3.959798   8.601139       c2\n",
            "14   (6, 2)  2.828427  0.824621   7.845446       c2\n",
            "15   (1, 5)  3.162278  6.440497   3.642157       c1\n",
            "16   (7, 5)  3.162278  3.883298   6.379175       c1\n",
            "17   (3, 5)  1.414214  4.967897   3.795809       c1\n",
            "18   (6, 6)  2.828427  4.804165   4.997959       c1\n",
            "19   (8, 4)  4.000000  3.328663   7.772269       c2\n",
            "{'c1': 8, 'c2': 6, 'c3': 6}\n",
            "     points        c1        c2         c3 category\n",
            "0    (7, 0)  5.659616  1.740051  10.522463       c2\n",
            "1    (1, 3)  2.404423  5.659309   6.222718       c1\n",
            "2    (6, 0)  5.028046  1.740051  10.069205       c2\n",
            "3    (3, 0)  4.126894  3.876568   9.240611       c2\n",
            "4    (0, 9)  5.790617  9.799376   1.840894       c3\n",
            "5   (3, 10)  5.876330  9.038498   1.433721       c3\n",
            "6    (4, 5)  1.237437  4.166667   4.696334       c1\n",
            "7    (0, 8)  4.978077  9.075302   2.173067       c3\n",
            "8    (0, 9)  5.790617  9.799376   1.840894       c3\n",
            "9    (0, 1)  4.419417  6.534099   8.369920       c1\n",
            "10  (8, 10)  7.634216  8.467257   6.222718       c3\n",
            "11   (0, 9)  5.790617  9.799376   1.840894       c3\n",
            "12   (3, 3)  1.131923  3.745368   6.276057       c1\n",
            "13   (9, 4)  5.876330  3.419714   8.834906       c2\n",
            "14   (6, 2)  3.575087  0.600925   8.289887       c2\n",
            "15   (1, 5)  2.298097  6.431260   4.249183       c1\n",
            "16   (7, 5)  3.972562  3.370625   6.637436       c2\n",
            "17   (3, 5)  0.883883  4.833333   4.326918       c1\n",
            "18   (6, 6)  3.432383  4.362084   5.233439       c1\n",
            "19   (8, 4)  4.876602  2.773886   8.045012       c2\n",
            "{'c1': 7, 'c2': 7, 'c3': 6}\n"
          ],
          "name": "stdout"
        }
      ]
    },
    {
      "cell_type": "code",
      "metadata": {
        "colab": {
          "base_uri": "https://localhost:8080/",
          "height": 669
        },
        "id": "tdgnjy3rznsn",
        "outputId": "ac06d8db-2324-4986-d731-1920a26fade1"
      },
      "source": [
        "dataset1"
      ],
      "execution_count": null,
      "outputs": [
        {
          "output_type": "execute_result",
          "data": {
            "text/html": [
              "<div>\n",
              "<style scoped>\n",
              "    .dataframe tbody tr th:only-of-type {\n",
              "        vertical-align: middle;\n",
              "    }\n",
              "\n",
              "    .dataframe tbody tr th {\n",
              "        vertical-align: top;\n",
              "    }\n",
              "\n",
              "    .dataframe thead th {\n",
              "        text-align: right;\n",
              "    }\n",
              "</style>\n",
              "<table border=\"1\" class=\"dataframe\">\n",
              "  <thead>\n",
              "    <tr style=\"text-align: right;\">\n",
              "      <th></th>\n",
              "      <th>points</th>\n",
              "      <th>c1</th>\n",
              "      <th>c2</th>\n",
              "      <th>c3</th>\n",
              "      <th>category</th>\n",
              "    </tr>\n",
              "  </thead>\n",
              "  <tbody>\n",
              "    <tr>\n",
              "      <th>0</th>\n",
              "      <td>(7, 0)</td>\n",
              "      <td>5.659616</td>\n",
              "      <td>1.740051</td>\n",
              "      <td>10.522463</td>\n",
              "      <td>c2</td>\n",
              "    </tr>\n",
              "    <tr>\n",
              "      <th>1</th>\n",
              "      <td>(1, 3)</td>\n",
              "      <td>2.404423</td>\n",
              "      <td>5.659309</td>\n",
              "      <td>6.222718</td>\n",
              "      <td>c1</td>\n",
              "    </tr>\n",
              "    <tr>\n",
              "      <th>2</th>\n",
              "      <td>(6, 0)</td>\n",
              "      <td>5.028046</td>\n",
              "      <td>1.740051</td>\n",
              "      <td>10.069205</td>\n",
              "      <td>c2</td>\n",
              "    </tr>\n",
              "    <tr>\n",
              "      <th>3</th>\n",
              "      <td>(3, 0)</td>\n",
              "      <td>4.126894</td>\n",
              "      <td>3.876568</td>\n",
              "      <td>9.240611</td>\n",
              "      <td>c2</td>\n",
              "    </tr>\n",
              "    <tr>\n",
              "      <th>4</th>\n",
              "      <td>(0, 9)</td>\n",
              "      <td>5.790617</td>\n",
              "      <td>9.799376</td>\n",
              "      <td>1.840894</td>\n",
              "      <td>c3</td>\n",
              "    </tr>\n",
              "    <tr>\n",
              "      <th>5</th>\n",
              "      <td>(3, 10)</td>\n",
              "      <td>5.876330</td>\n",
              "      <td>9.038498</td>\n",
              "      <td>1.433721</td>\n",
              "      <td>c3</td>\n",
              "    </tr>\n",
              "    <tr>\n",
              "      <th>6</th>\n",
              "      <td>(4, 5)</td>\n",
              "      <td>1.237437</td>\n",
              "      <td>4.166667</td>\n",
              "      <td>4.696334</td>\n",
              "      <td>c1</td>\n",
              "    </tr>\n",
              "    <tr>\n",
              "      <th>7</th>\n",
              "      <td>(0, 8)</td>\n",
              "      <td>4.978077</td>\n",
              "      <td>9.075302</td>\n",
              "      <td>2.173067</td>\n",
              "      <td>c3</td>\n",
              "    </tr>\n",
              "    <tr>\n",
              "      <th>8</th>\n",
              "      <td>(0, 9)</td>\n",
              "      <td>5.790617</td>\n",
              "      <td>9.799376</td>\n",
              "      <td>1.840894</td>\n",
              "      <td>c3</td>\n",
              "    </tr>\n",
              "    <tr>\n",
              "      <th>9</th>\n",
              "      <td>(0, 1)</td>\n",
              "      <td>4.419417</td>\n",
              "      <td>6.534099</td>\n",
              "      <td>8.369920</td>\n",
              "      <td>c1</td>\n",
              "    </tr>\n",
              "    <tr>\n",
              "      <th>10</th>\n",
              "      <td>(8, 10)</td>\n",
              "      <td>7.634216</td>\n",
              "      <td>8.467257</td>\n",
              "      <td>6.222718</td>\n",
              "      <td>c3</td>\n",
              "    </tr>\n",
              "    <tr>\n",
              "      <th>11</th>\n",
              "      <td>(0, 9)</td>\n",
              "      <td>5.790617</td>\n",
              "      <td>9.799376</td>\n",
              "      <td>1.840894</td>\n",
              "      <td>c3</td>\n",
              "    </tr>\n",
              "    <tr>\n",
              "      <th>12</th>\n",
              "      <td>(3, 3)</td>\n",
              "      <td>1.131923</td>\n",
              "      <td>3.745368</td>\n",
              "      <td>6.276057</td>\n",
              "      <td>c1</td>\n",
              "    </tr>\n",
              "    <tr>\n",
              "      <th>13</th>\n",
              "      <td>(9, 4)</td>\n",
              "      <td>5.876330</td>\n",
              "      <td>3.419714</td>\n",
              "      <td>8.834906</td>\n",
              "      <td>c2</td>\n",
              "    </tr>\n",
              "    <tr>\n",
              "      <th>14</th>\n",
              "      <td>(6, 2)</td>\n",
              "      <td>3.575087</td>\n",
              "      <td>0.600925</td>\n",
              "      <td>8.289887</td>\n",
              "      <td>c2</td>\n",
              "    </tr>\n",
              "    <tr>\n",
              "      <th>15</th>\n",
              "      <td>(1, 5)</td>\n",
              "      <td>2.298097</td>\n",
              "      <td>6.431260</td>\n",
              "      <td>4.249183</td>\n",
              "      <td>c1</td>\n",
              "    </tr>\n",
              "    <tr>\n",
              "      <th>16</th>\n",
              "      <td>(7, 5)</td>\n",
              "      <td>3.972562</td>\n",
              "      <td>3.370625</td>\n",
              "      <td>6.637436</td>\n",
              "      <td>c2</td>\n",
              "    </tr>\n",
              "    <tr>\n",
              "      <th>17</th>\n",
              "      <td>(3, 5)</td>\n",
              "      <td>0.883883</td>\n",
              "      <td>4.833333</td>\n",
              "      <td>4.326918</td>\n",
              "      <td>c1</td>\n",
              "    </tr>\n",
              "    <tr>\n",
              "      <th>18</th>\n",
              "      <td>(6, 6)</td>\n",
              "      <td>3.432383</td>\n",
              "      <td>4.362084</td>\n",
              "      <td>5.233439</td>\n",
              "      <td>c1</td>\n",
              "    </tr>\n",
              "    <tr>\n",
              "      <th>19</th>\n",
              "      <td>(8, 4)</td>\n",
              "      <td>4.876602</td>\n",
              "      <td>2.773886</td>\n",
              "      <td>8.045012</td>\n",
              "      <td>c2</td>\n",
              "    </tr>\n",
              "  </tbody>\n",
              "</table>\n",
              "</div>"
            ],
            "text/plain": [
              "     points        c1        c2         c3 category\n",
              "0    (7, 0)  5.659616  1.740051  10.522463       c2\n",
              "1    (1, 3)  2.404423  5.659309   6.222718       c1\n",
              "2    (6, 0)  5.028046  1.740051  10.069205       c2\n",
              "3    (3, 0)  4.126894  3.876568   9.240611       c2\n",
              "4    (0, 9)  5.790617  9.799376   1.840894       c3\n",
              "5   (3, 10)  5.876330  9.038498   1.433721       c3\n",
              "6    (4, 5)  1.237437  4.166667   4.696334       c1\n",
              "7    (0, 8)  4.978077  9.075302   2.173067       c3\n",
              "8    (0, 9)  5.790617  9.799376   1.840894       c3\n",
              "9    (0, 1)  4.419417  6.534099   8.369920       c1\n",
              "10  (8, 10)  7.634216  8.467257   6.222718       c3\n",
              "11   (0, 9)  5.790617  9.799376   1.840894       c3\n",
              "12   (3, 3)  1.131923  3.745368   6.276057       c1\n",
              "13   (9, 4)  5.876330  3.419714   8.834906       c2\n",
              "14   (6, 2)  3.575087  0.600925   8.289887       c2\n",
              "15   (1, 5)  2.298097  6.431260   4.249183       c1\n",
              "16   (7, 5)  3.972562  3.370625   6.637436       c2\n",
              "17   (3, 5)  0.883883  4.833333   4.326918       c1\n",
              "18   (6, 6)  3.432383  4.362084   5.233439       c1\n",
              "19   (8, 4)  4.876602  2.773886   8.045012       c2"
            ]
          },
          "metadata": {
            "tags": []
          },
          "execution_count": 28
        }
      ]
    },
    {
      "cell_type": "code",
      "metadata": {
        "colab": {
          "base_uri": "https://localhost:8080/",
          "height": 669
        },
        "id": "dVllBg95H2gz",
        "outputId": "21b7b64c-5f6a-49e1-b9ec-2f41cd556bc2"
      },
      "source": [
        "dataset1"
      ],
      "execution_count": null,
      "outputs": [
        {
          "output_type": "execute_result",
          "data": {
            "text/html": [
              "<div>\n",
              "<style scoped>\n",
              "    .dataframe tbody tr th:only-of-type {\n",
              "        vertical-align: middle;\n",
              "    }\n",
              "\n",
              "    .dataframe tbody tr th {\n",
              "        vertical-align: top;\n",
              "    }\n",
              "\n",
              "    .dataframe thead th {\n",
              "        text-align: right;\n",
              "    }\n",
              "</style>\n",
              "<table border=\"1\" class=\"dataframe\">\n",
              "  <thead>\n",
              "    <tr style=\"text-align: right;\">\n",
              "      <th></th>\n",
              "      <th>points</th>\n",
              "      <th>c1</th>\n",
              "      <th>c2</th>\n",
              "      <th>c3</th>\n",
              "      <th>category</th>\n",
              "    </tr>\n",
              "  </thead>\n",
              "  <tbody>\n",
              "    <tr>\n",
              "      <th>0</th>\n",
              "      <td>(7, 0)</td>\n",
              "      <td>5.659616</td>\n",
              "      <td>1.740051</td>\n",
              "      <td>10.522463</td>\n",
              "      <td>c2</td>\n",
              "    </tr>\n",
              "    <tr>\n",
              "      <th>1</th>\n",
              "      <td>(1, 3)</td>\n",
              "      <td>2.404423</td>\n",
              "      <td>5.659309</td>\n",
              "      <td>6.222718</td>\n",
              "      <td>c1</td>\n",
              "    </tr>\n",
              "    <tr>\n",
              "      <th>2</th>\n",
              "      <td>(6, 0)</td>\n",
              "      <td>5.028046</td>\n",
              "      <td>1.740051</td>\n",
              "      <td>10.069205</td>\n",
              "      <td>c2</td>\n",
              "    </tr>\n",
              "    <tr>\n",
              "      <th>3</th>\n",
              "      <td>(3, 0)</td>\n",
              "      <td>4.126894</td>\n",
              "      <td>3.876568</td>\n",
              "      <td>9.240611</td>\n",
              "      <td>c2</td>\n",
              "    </tr>\n",
              "    <tr>\n",
              "      <th>4</th>\n",
              "      <td>(0, 9)</td>\n",
              "      <td>5.790617</td>\n",
              "      <td>9.799376</td>\n",
              "      <td>1.840894</td>\n",
              "      <td>c3</td>\n",
              "    </tr>\n",
              "    <tr>\n",
              "      <th>5</th>\n",
              "      <td>(3, 10)</td>\n",
              "      <td>5.876330</td>\n",
              "      <td>9.038498</td>\n",
              "      <td>1.433721</td>\n",
              "      <td>c3</td>\n",
              "    </tr>\n",
              "    <tr>\n",
              "      <th>6</th>\n",
              "      <td>(4, 5)</td>\n",
              "      <td>1.237437</td>\n",
              "      <td>4.166667</td>\n",
              "      <td>4.696334</td>\n",
              "      <td>c1</td>\n",
              "    </tr>\n",
              "    <tr>\n",
              "      <th>7</th>\n",
              "      <td>(0, 8)</td>\n",
              "      <td>4.978077</td>\n",
              "      <td>9.075302</td>\n",
              "      <td>2.173067</td>\n",
              "      <td>c3</td>\n",
              "    </tr>\n",
              "    <tr>\n",
              "      <th>8</th>\n",
              "      <td>(0, 9)</td>\n",
              "      <td>5.790617</td>\n",
              "      <td>9.799376</td>\n",
              "      <td>1.840894</td>\n",
              "      <td>c3</td>\n",
              "    </tr>\n",
              "    <tr>\n",
              "      <th>9</th>\n",
              "      <td>(0, 1)</td>\n",
              "      <td>4.419417</td>\n",
              "      <td>6.534099</td>\n",
              "      <td>8.369920</td>\n",
              "      <td>c1</td>\n",
              "    </tr>\n",
              "    <tr>\n",
              "      <th>10</th>\n",
              "      <td>(8, 10)</td>\n",
              "      <td>7.634216</td>\n",
              "      <td>8.467257</td>\n",
              "      <td>6.222718</td>\n",
              "      <td>c3</td>\n",
              "    </tr>\n",
              "    <tr>\n",
              "      <th>11</th>\n",
              "      <td>(0, 9)</td>\n",
              "      <td>5.790617</td>\n",
              "      <td>9.799376</td>\n",
              "      <td>1.840894</td>\n",
              "      <td>c3</td>\n",
              "    </tr>\n",
              "    <tr>\n",
              "      <th>12</th>\n",
              "      <td>(3, 3)</td>\n",
              "      <td>1.131923</td>\n",
              "      <td>3.745368</td>\n",
              "      <td>6.276057</td>\n",
              "      <td>c1</td>\n",
              "    </tr>\n",
              "    <tr>\n",
              "      <th>13</th>\n",
              "      <td>(9, 4)</td>\n",
              "      <td>5.876330</td>\n",
              "      <td>3.419714</td>\n",
              "      <td>8.834906</td>\n",
              "      <td>c2</td>\n",
              "    </tr>\n",
              "    <tr>\n",
              "      <th>14</th>\n",
              "      <td>(6, 2)</td>\n",
              "      <td>3.575087</td>\n",
              "      <td>0.600925</td>\n",
              "      <td>8.289887</td>\n",
              "      <td>c2</td>\n",
              "    </tr>\n",
              "    <tr>\n",
              "      <th>15</th>\n",
              "      <td>(1, 5)</td>\n",
              "      <td>2.298097</td>\n",
              "      <td>6.431260</td>\n",
              "      <td>4.249183</td>\n",
              "      <td>c1</td>\n",
              "    </tr>\n",
              "    <tr>\n",
              "      <th>16</th>\n",
              "      <td>(7, 5)</td>\n",
              "      <td>3.972562</td>\n",
              "      <td>3.370625</td>\n",
              "      <td>6.637436</td>\n",
              "      <td>c2</td>\n",
              "    </tr>\n",
              "    <tr>\n",
              "      <th>17</th>\n",
              "      <td>(3, 5)</td>\n",
              "      <td>0.883883</td>\n",
              "      <td>4.833333</td>\n",
              "      <td>4.326918</td>\n",
              "      <td>c1</td>\n",
              "    </tr>\n",
              "    <tr>\n",
              "      <th>18</th>\n",
              "      <td>(6, 6)</td>\n",
              "      <td>3.432383</td>\n",
              "      <td>4.362084</td>\n",
              "      <td>5.233439</td>\n",
              "      <td>c1</td>\n",
              "    </tr>\n",
              "    <tr>\n",
              "      <th>19</th>\n",
              "      <td>(8, 4)</td>\n",
              "      <td>4.876602</td>\n",
              "      <td>2.773886</td>\n",
              "      <td>8.045012</td>\n",
              "      <td>c2</td>\n",
              "    </tr>\n",
              "  </tbody>\n",
              "</table>\n",
              "</div>"
            ],
            "text/plain": [
              "     points        c1        c2         c3 category\n",
              "0    (7, 0)  5.659616  1.740051  10.522463       c2\n",
              "1    (1, 3)  2.404423  5.659309   6.222718       c1\n",
              "2    (6, 0)  5.028046  1.740051  10.069205       c2\n",
              "3    (3, 0)  4.126894  3.876568   9.240611       c2\n",
              "4    (0, 9)  5.790617  9.799376   1.840894       c3\n",
              "5   (3, 10)  5.876330  9.038498   1.433721       c3\n",
              "6    (4, 5)  1.237437  4.166667   4.696334       c1\n",
              "7    (0, 8)  4.978077  9.075302   2.173067       c3\n",
              "8    (0, 9)  5.790617  9.799376   1.840894       c3\n",
              "9    (0, 1)  4.419417  6.534099   8.369920       c1\n",
              "10  (8, 10)  7.634216  8.467257   6.222718       c3\n",
              "11   (0, 9)  5.790617  9.799376   1.840894       c3\n",
              "12   (3, 3)  1.131923  3.745368   6.276057       c1\n",
              "13   (9, 4)  5.876330  3.419714   8.834906       c2\n",
              "14   (6, 2)  3.575087  0.600925   8.289887       c2\n",
              "15   (1, 5)  2.298097  6.431260   4.249183       c1\n",
              "16   (7, 5)  3.972562  3.370625   6.637436       c2\n",
              "17   (3, 5)  0.883883  4.833333   4.326918       c1\n",
              "18   (6, 6)  3.432383  4.362084   5.233439       c1\n",
              "19   (8, 4)  4.876602  2.773886   8.045012       c2"
            ]
          },
          "metadata": {
            "tags": []
          },
          "execution_count": 33
        }
      ]
    },
    {
      "cell_type": "code",
      "metadata": {
        "colab": {
          "base_uri": "https://localhost:8080/"
        },
        "id": "gc5mWGdjqvlG",
        "outputId": "24e59a89-7069-4f5a-b04c-a7fc191834ed"
      },
      "source": [
        "dataset1.category.value_counts()"
      ],
      "execution_count": null,
      "outputs": [
        {
          "output_type": "execute_result",
          "data": {
            "text/plain": [
              "c1    7\n",
              "c2    7\n",
              "c3    6\n",
              "Name: category, dtype: int64"
            ]
          },
          "metadata": {
            "tags": []
          },
          "execution_count": 29
        }
      ]
    },
    {
      "cell_type": "code",
      "metadata": {
        "id": "17m2T3BRIwvd"
      },
      "source": [
        "\n",
        "# for i in dataset1['category'].unique():\n",
        "#  dict1[i] = mean_pts(dataset1[dataset1['category']==i].points.values)\n",
        "# dict1"
      ],
      "execution_count": null,
      "outputs": []
    },
    {
      "cell_type": "code",
      "metadata": {
        "id": "ve8Hh7i-qzHz"
      },
      "source": [
        ""
      ],
      "execution_count": null,
      "outputs": []
    },
    {
      "cell_type": "code",
      "metadata": {
        "id": "e7nF0nDQqzFG"
      },
      "source": [
        ""
      ],
      "execution_count": null,
      "outputs": []
    },
    {
      "cell_type": "markdown",
      "metadata": {
        "id": "-SHCiAHPHOUT"
      },
      "source": [
        "#### 2: (1,2,4), (2,4,7), (3,6,9),(8,9,10),(1,3,10),(1,4,3), (9,0,12), (1,10,0),......\n",
        "\n",
        "  create 20 dataset in above structure and divide in 2 group"
      ]
    },
    {
      "cell_type": "code",
      "metadata": {
        "colab": {
          "base_uri": "https://localhost:8080/"
        },
        "id": "8pzdBChSHPfE",
        "outputId": "c37401b3-bc0a-4c22-fdf7-0640896afa0d"
      },
      "source": [
        "import random\n",
        "list2 = [tuple([random.randint(0,10) for j in range(3)]) for i in range(20)]\n",
        "print(list2)\n",
        "c1 = tuple([random.randint(0,10) for j in range(3)])\n",
        "c2 = tuple([random.randint(0,10) for j in range(3)])\n",
        "dataset2 = pd.DataFrame(0, index=np.arange(0,20), columns=[\"points\",\"c1\",\"c2\",\"category\"])\n",
        "dataset2[\"points\"] = list2"
      ],
      "execution_count": null,
      "outputs": [
        {
          "output_type": "stream",
          "text": [
            "[(10, 8, 9), (4, 10, 4), (9, 0, 1), (9, 7, 0), (9, 4, 9), (10, 0, 5), (1, 5, 10), (8, 10, 4), (0, 6, 7), (3, 9, 7), (8, 10, 5), (3, 8, 2), (9, 6, 5), (7, 10, 4), (2, 1, 8), (10, 5, 3), (5, 1, 7), (3, 1, 9), (3, 8, 7), (10, 7, 2)]\n"
          ],
          "name": "stdout"
        }
      ]
    },
    {
      "cell_type": "code",
      "metadata": {
        "colab": {
          "base_uri": "https://localhost:8080/",
          "height": 669
        },
        "id": "-owshQv_d9S4",
        "outputId": "86828097-74b4-4064-adbf-8399f9a26a50"
      },
      "source": [
        "dataset2"
      ],
      "execution_count": null,
      "outputs": [
        {
          "output_type": "execute_result",
          "data": {
            "text/html": [
              "<div>\n",
              "<style scoped>\n",
              "    .dataframe tbody tr th:only-of-type {\n",
              "        vertical-align: middle;\n",
              "    }\n",
              "\n",
              "    .dataframe tbody tr th {\n",
              "        vertical-align: top;\n",
              "    }\n",
              "\n",
              "    .dataframe thead th {\n",
              "        text-align: right;\n",
              "    }\n",
              "</style>\n",
              "<table border=\"1\" class=\"dataframe\">\n",
              "  <thead>\n",
              "    <tr style=\"text-align: right;\">\n",
              "      <th></th>\n",
              "      <th>points</th>\n",
              "      <th>c1</th>\n",
              "      <th>c2</th>\n",
              "      <th>category</th>\n",
              "    </tr>\n",
              "  </thead>\n",
              "  <tbody>\n",
              "    <tr>\n",
              "      <th>0</th>\n",
              "      <td>(10, 8, 9)</td>\n",
              "      <td>0</td>\n",
              "      <td>0</td>\n",
              "      <td>0</td>\n",
              "    </tr>\n",
              "    <tr>\n",
              "      <th>1</th>\n",
              "      <td>(4, 10, 4)</td>\n",
              "      <td>0</td>\n",
              "      <td>0</td>\n",
              "      <td>0</td>\n",
              "    </tr>\n",
              "    <tr>\n",
              "      <th>2</th>\n",
              "      <td>(9, 0, 1)</td>\n",
              "      <td>0</td>\n",
              "      <td>0</td>\n",
              "      <td>0</td>\n",
              "    </tr>\n",
              "    <tr>\n",
              "      <th>3</th>\n",
              "      <td>(9, 7, 0)</td>\n",
              "      <td>0</td>\n",
              "      <td>0</td>\n",
              "      <td>0</td>\n",
              "    </tr>\n",
              "    <tr>\n",
              "      <th>4</th>\n",
              "      <td>(9, 4, 9)</td>\n",
              "      <td>0</td>\n",
              "      <td>0</td>\n",
              "      <td>0</td>\n",
              "    </tr>\n",
              "    <tr>\n",
              "      <th>5</th>\n",
              "      <td>(10, 0, 5)</td>\n",
              "      <td>0</td>\n",
              "      <td>0</td>\n",
              "      <td>0</td>\n",
              "    </tr>\n",
              "    <tr>\n",
              "      <th>6</th>\n",
              "      <td>(1, 5, 10)</td>\n",
              "      <td>0</td>\n",
              "      <td>0</td>\n",
              "      <td>0</td>\n",
              "    </tr>\n",
              "    <tr>\n",
              "      <th>7</th>\n",
              "      <td>(8, 10, 4)</td>\n",
              "      <td>0</td>\n",
              "      <td>0</td>\n",
              "      <td>0</td>\n",
              "    </tr>\n",
              "    <tr>\n",
              "      <th>8</th>\n",
              "      <td>(0, 6, 7)</td>\n",
              "      <td>0</td>\n",
              "      <td>0</td>\n",
              "      <td>0</td>\n",
              "    </tr>\n",
              "    <tr>\n",
              "      <th>9</th>\n",
              "      <td>(3, 9, 7)</td>\n",
              "      <td>0</td>\n",
              "      <td>0</td>\n",
              "      <td>0</td>\n",
              "    </tr>\n",
              "    <tr>\n",
              "      <th>10</th>\n",
              "      <td>(8, 10, 5)</td>\n",
              "      <td>0</td>\n",
              "      <td>0</td>\n",
              "      <td>0</td>\n",
              "    </tr>\n",
              "    <tr>\n",
              "      <th>11</th>\n",
              "      <td>(3, 8, 2)</td>\n",
              "      <td>0</td>\n",
              "      <td>0</td>\n",
              "      <td>0</td>\n",
              "    </tr>\n",
              "    <tr>\n",
              "      <th>12</th>\n",
              "      <td>(9, 6, 5)</td>\n",
              "      <td>0</td>\n",
              "      <td>0</td>\n",
              "      <td>0</td>\n",
              "    </tr>\n",
              "    <tr>\n",
              "      <th>13</th>\n",
              "      <td>(7, 10, 4)</td>\n",
              "      <td>0</td>\n",
              "      <td>0</td>\n",
              "      <td>0</td>\n",
              "    </tr>\n",
              "    <tr>\n",
              "      <th>14</th>\n",
              "      <td>(2, 1, 8)</td>\n",
              "      <td>0</td>\n",
              "      <td>0</td>\n",
              "      <td>0</td>\n",
              "    </tr>\n",
              "    <tr>\n",
              "      <th>15</th>\n",
              "      <td>(10, 5, 3)</td>\n",
              "      <td>0</td>\n",
              "      <td>0</td>\n",
              "      <td>0</td>\n",
              "    </tr>\n",
              "    <tr>\n",
              "      <th>16</th>\n",
              "      <td>(5, 1, 7)</td>\n",
              "      <td>0</td>\n",
              "      <td>0</td>\n",
              "      <td>0</td>\n",
              "    </tr>\n",
              "    <tr>\n",
              "      <th>17</th>\n",
              "      <td>(3, 1, 9)</td>\n",
              "      <td>0</td>\n",
              "      <td>0</td>\n",
              "      <td>0</td>\n",
              "    </tr>\n",
              "    <tr>\n",
              "      <th>18</th>\n",
              "      <td>(3, 8, 7)</td>\n",
              "      <td>0</td>\n",
              "      <td>0</td>\n",
              "      <td>0</td>\n",
              "    </tr>\n",
              "    <tr>\n",
              "      <th>19</th>\n",
              "      <td>(10, 7, 2)</td>\n",
              "      <td>0</td>\n",
              "      <td>0</td>\n",
              "      <td>0</td>\n",
              "    </tr>\n",
              "  </tbody>\n",
              "</table>\n",
              "</div>"
            ],
            "text/plain": [
              "        points  c1  c2  category\n",
              "0   (10, 8, 9)   0   0         0\n",
              "1   (4, 10, 4)   0   0         0\n",
              "2    (9, 0, 1)   0   0         0\n",
              "3    (9, 7, 0)   0   0         0\n",
              "4    (9, 4, 9)   0   0         0\n",
              "5   (10, 0, 5)   0   0         0\n",
              "6   (1, 5, 10)   0   0         0\n",
              "7   (8, 10, 4)   0   0         0\n",
              "8    (0, 6, 7)   0   0         0\n",
              "9    (3, 9, 7)   0   0         0\n",
              "10  (8, 10, 5)   0   0         0\n",
              "11   (3, 8, 2)   0   0         0\n",
              "12   (9, 6, 5)   0   0         0\n",
              "13  (7, 10, 4)   0   0         0\n",
              "14   (2, 1, 8)   0   0         0\n",
              "15  (10, 5, 3)   0   0         0\n",
              "16   (5, 1, 7)   0   0         0\n",
              "17   (3, 1, 9)   0   0         0\n",
              "18   (3, 8, 7)   0   0         0\n",
              "19  (10, 7, 2)   0   0         0"
            ]
          },
          "metadata": {
            "tags": []
          },
          "execution_count": 35
        }
      ]
    },
    {
      "cell_type": "code",
      "metadata": {
        "id": "BjD-eBD3d9P2"
      },
      "source": [
        "dict1 = {'c1': c1,'c2': c2}\n",
        "def get_dataset_pts(data,dict1): \n",
        "  dist_cal = lambda p1,p2: ((p1[0]-p2[0])**2 + (p1[1]-p2[1])**2 + (p1[2]-p2[2])**2)**(1/2) \n",
        "  for i in dict1.keys():\n",
        "    for j in range(len(data)):\n",
        "      data.loc[j,i] = dist_cal(data.loc[j,\"points\"],dict1[i])\n",
        "  return data\n",
        "def mean_pts1(list_pt):\n",
        "  ls1, ls2, ls3 = [], [], []\n",
        "  for i in list_pt:\n",
        "    ls1.append(i[0])\n",
        "    ls2.append(i[1])\n",
        "    ls3.append(i[2])\n",
        "  a = sum(ls1)/len(ls1)\n",
        "  b = sum(ls2)/len(ls2)\n",
        "  c = sum(ls3)/len(ls3)\n",
        "  return (a,b,c)"
      ],
      "execution_count": null,
      "outputs": []
    },
    {
      "cell_type": "code",
      "metadata": {
        "colab": {
          "base_uri": "https://localhost:8080/"
        },
        "id": "pZMVF77pd9Mn",
        "outputId": "6e1e6cdb-2925-4f89-e83e-60b6de15c7b9"
      },
      "source": [
        "dataset2 = get_dataset_pts(dataset2,dict1)\n",
        "dataset2[\"category\"] = dataset2[[\"c1\",\"c2\"]].idxmin(axis=1)\n",
        "# dataset2\n",
        "dict2 = dict()\n",
        "for i in dataset2.category.value_counts().index:\n",
        " dict2[i] = dataset2.category.value_counts()[i]\n",
        "print(dict2)"
      ],
      "execution_count": null,
      "outputs": [
        {
          "output_type": "stream",
          "text": [
            "{'c1': 16, 'c2': 4}\n"
          ],
          "name": "stdout"
        }
      ]
    },
    {
      "cell_type": "code",
      "metadata": {
        "colab": {
          "base_uri": "https://localhost:8080/"
        },
        "id": "LNYdloBjJG7N",
        "outputId": "77b58339-0aa3-4e3f-b4b5-e622e1fb1deb"
      },
      "source": [
        "num = True\n",
        "while num:\n",
        "  if abs(dict2['c1']-dict2['c2'])<=1:\n",
        "    num = False\n",
        "  else:\n",
        "    for i in dataset2['category'].unique():\n",
        "      dict1[i] = mean_pts1(dataset2[dataset1['category']==i].points.values)\n",
        "    # print(dict1)\n",
        "    dataset2 = get_dataset_pts(dataset2,dict1)\n",
        "    dataset2[\"category\"] = dataset2[[\"c1\",\"c2\"]].idxmin(axis=1)\n",
        "    print(dataset2)\n",
        "    dict2 = dict()\n",
        "    for i in dataset2.category.value_counts().index:\n",
        "     dict2[i] = dataset2.category.value_counts()[i]\n",
        "    print(dict2)"
      ],
      "execution_count": null,
      "outputs": [
        {
          "output_type": "stream",
          "text": [
            "        points        c1        c2 category\n",
            "0   (10, 8, 9)  6.122891  6.114553       c2\n",
            "1   (4, 10, 4)  4.494895  6.195785       c1\n",
            "2    (9, 0, 1)  9.345958  6.149498       c2\n",
            "3    (9, 7, 0)  7.759129  5.164636       c2\n",
            "4    (9, 4, 9)  5.495824  4.909383       c2\n",
            "5   (10, 0, 5)  8.336054  5.525451       c2\n",
            "6   (1, 5, 10)  5.310752  8.508099       c1\n",
            "7   (8, 10, 4)  5.521757  5.192223       c2\n",
            "8    (0, 6, 7)  4.757379  7.943679       c1\n",
            "9    (3, 9, 7)  3.260775  6.586938       c1\n",
            "10  (8, 10, 5)  5.160683  5.205962       c1\n",
            "11   (3, 8, 2)  5.048742  5.948761       c1\n",
            "12   (9, 6, 5)  4.526566  2.025350       c2\n",
            "13  (7, 10, 4)  4.991830  5.178448       c1\n",
            "14   (2, 1, 8)  6.146179  7.556589       c1\n",
            "15  (10, 5, 3)  6.430159  2.945075       c2\n",
            "16   (5, 1, 7)  5.324184  5.233331       c2\n",
            "17   (3, 1, 9)  6.122891  7.442295       c1\n",
            "18   (3, 8, 7)  2.490799  6.008497       c1\n",
            "19  (10, 7, 2)  6.932620  4.135461       c2\n",
            "{'c1': 10, 'c2': 10}\n"
          ],
          "name": "stdout"
        }
      ]
    },
    {
      "cell_type": "code",
      "metadata": {
        "colab": {
          "base_uri": "https://localhost:8080/"
        },
        "id": "0WoVq_ioK7dD",
        "outputId": "46d8ee01-9299-42cb-dc47-fa21f8a6e4ce"
      },
      "source": [
        "dataset2.category.value_counts()"
      ],
      "execution_count": null,
      "outputs": [
        {
          "output_type": "execute_result",
          "data": {
            "text/plain": [
              "c1    10\n",
              "c2    10\n",
              "Name: category, dtype: int64"
            ]
          },
          "metadata": {
            "tags": []
          },
          "execution_count": 39
        }
      ]
    },
    {
      "cell_type": "code",
      "metadata": {
        "colab": {
          "base_uri": "https://localhost:8080/",
          "height": 669
        },
        "id": "NA7eKXRQK7ZO",
        "outputId": "ff7403ed-99bf-4f32-ddb9-04899aa3adb9"
      },
      "source": [
        "dataset2"
      ],
      "execution_count": null,
      "outputs": [
        {
          "output_type": "execute_result",
          "data": {
            "text/html": [
              "<div>\n",
              "<style scoped>\n",
              "    .dataframe tbody tr th:only-of-type {\n",
              "        vertical-align: middle;\n",
              "    }\n",
              "\n",
              "    .dataframe tbody tr th {\n",
              "        vertical-align: top;\n",
              "    }\n",
              "\n",
              "    .dataframe thead th {\n",
              "        text-align: right;\n",
              "    }\n",
              "</style>\n",
              "<table border=\"1\" class=\"dataframe\">\n",
              "  <thead>\n",
              "    <tr style=\"text-align: right;\">\n",
              "      <th></th>\n",
              "      <th>points</th>\n",
              "      <th>c1</th>\n",
              "      <th>c2</th>\n",
              "      <th>category</th>\n",
              "    </tr>\n",
              "  </thead>\n",
              "  <tbody>\n",
              "    <tr>\n",
              "      <th>0</th>\n",
              "      <td>(10, 8, 9)</td>\n",
              "      <td>6.122891</td>\n",
              "      <td>6.114553</td>\n",
              "      <td>c2</td>\n",
              "    </tr>\n",
              "    <tr>\n",
              "      <th>1</th>\n",
              "      <td>(4, 10, 4)</td>\n",
              "      <td>4.494895</td>\n",
              "      <td>6.195785</td>\n",
              "      <td>c1</td>\n",
              "    </tr>\n",
              "    <tr>\n",
              "      <th>2</th>\n",
              "      <td>(9, 0, 1)</td>\n",
              "      <td>9.345958</td>\n",
              "      <td>6.149498</td>\n",
              "      <td>c2</td>\n",
              "    </tr>\n",
              "    <tr>\n",
              "      <th>3</th>\n",
              "      <td>(9, 7, 0)</td>\n",
              "      <td>7.759129</td>\n",
              "      <td>5.164636</td>\n",
              "      <td>c2</td>\n",
              "    </tr>\n",
              "    <tr>\n",
              "      <th>4</th>\n",
              "      <td>(9, 4, 9)</td>\n",
              "      <td>5.495824</td>\n",
              "      <td>4.909383</td>\n",
              "      <td>c2</td>\n",
              "    </tr>\n",
              "    <tr>\n",
              "      <th>5</th>\n",
              "      <td>(10, 0, 5)</td>\n",
              "      <td>8.336054</td>\n",
              "      <td>5.525451</td>\n",
              "      <td>c2</td>\n",
              "    </tr>\n",
              "    <tr>\n",
              "      <th>6</th>\n",
              "      <td>(1, 5, 10)</td>\n",
              "      <td>5.310752</td>\n",
              "      <td>8.508099</td>\n",
              "      <td>c1</td>\n",
              "    </tr>\n",
              "    <tr>\n",
              "      <th>7</th>\n",
              "      <td>(8, 10, 4)</td>\n",
              "      <td>5.521757</td>\n",
              "      <td>5.192223</td>\n",
              "      <td>c2</td>\n",
              "    </tr>\n",
              "    <tr>\n",
              "      <th>8</th>\n",
              "      <td>(0, 6, 7)</td>\n",
              "      <td>4.757379</td>\n",
              "      <td>7.943679</td>\n",
              "      <td>c1</td>\n",
              "    </tr>\n",
              "    <tr>\n",
              "      <th>9</th>\n",
              "      <td>(3, 9, 7)</td>\n",
              "      <td>3.260775</td>\n",
              "      <td>6.586938</td>\n",
              "      <td>c1</td>\n",
              "    </tr>\n",
              "    <tr>\n",
              "      <th>10</th>\n",
              "      <td>(8, 10, 5)</td>\n",
              "      <td>5.160683</td>\n",
              "      <td>5.205962</td>\n",
              "      <td>c1</td>\n",
              "    </tr>\n",
              "    <tr>\n",
              "      <th>11</th>\n",
              "      <td>(3, 8, 2)</td>\n",
              "      <td>5.048742</td>\n",
              "      <td>5.948761</td>\n",
              "      <td>c1</td>\n",
              "    </tr>\n",
              "    <tr>\n",
              "      <th>12</th>\n",
              "      <td>(9, 6, 5)</td>\n",
              "      <td>4.526566</td>\n",
              "      <td>2.025350</td>\n",
              "      <td>c2</td>\n",
              "    </tr>\n",
              "    <tr>\n",
              "      <th>13</th>\n",
              "      <td>(7, 10, 4)</td>\n",
              "      <td>4.991830</td>\n",
              "      <td>5.178448</td>\n",
              "      <td>c1</td>\n",
              "    </tr>\n",
              "    <tr>\n",
              "      <th>14</th>\n",
              "      <td>(2, 1, 8)</td>\n",
              "      <td>6.146179</td>\n",
              "      <td>7.556589</td>\n",
              "      <td>c1</td>\n",
              "    </tr>\n",
              "    <tr>\n",
              "      <th>15</th>\n",
              "      <td>(10, 5, 3)</td>\n",
              "      <td>6.430159</td>\n",
              "      <td>2.945075</td>\n",
              "      <td>c2</td>\n",
              "    </tr>\n",
              "    <tr>\n",
              "      <th>16</th>\n",
              "      <td>(5, 1, 7)</td>\n",
              "      <td>5.324184</td>\n",
              "      <td>5.233331</td>\n",
              "      <td>c2</td>\n",
              "    </tr>\n",
              "    <tr>\n",
              "      <th>17</th>\n",
              "      <td>(3, 1, 9)</td>\n",
              "      <td>6.122891</td>\n",
              "      <td>7.442295</td>\n",
              "      <td>c1</td>\n",
              "    </tr>\n",
              "    <tr>\n",
              "      <th>18</th>\n",
              "      <td>(3, 8, 7)</td>\n",
              "      <td>2.490799</td>\n",
              "      <td>6.008497</td>\n",
              "      <td>c1</td>\n",
              "    </tr>\n",
              "    <tr>\n",
              "      <th>19</th>\n",
              "      <td>(10, 7, 2)</td>\n",
              "      <td>6.932620</td>\n",
              "      <td>4.135461</td>\n",
              "      <td>c2</td>\n",
              "    </tr>\n",
              "  </tbody>\n",
              "</table>\n",
              "</div>"
            ],
            "text/plain": [
              "        points        c1        c2 category\n",
              "0   (10, 8, 9)  6.122891  6.114553       c2\n",
              "1   (4, 10, 4)  4.494895  6.195785       c1\n",
              "2    (9, 0, 1)  9.345958  6.149498       c2\n",
              "3    (9, 7, 0)  7.759129  5.164636       c2\n",
              "4    (9, 4, 9)  5.495824  4.909383       c2\n",
              "5   (10, 0, 5)  8.336054  5.525451       c2\n",
              "6   (1, 5, 10)  5.310752  8.508099       c1\n",
              "7   (8, 10, 4)  5.521757  5.192223       c2\n",
              "8    (0, 6, 7)  4.757379  7.943679       c1\n",
              "9    (3, 9, 7)  3.260775  6.586938       c1\n",
              "10  (8, 10, 5)  5.160683  5.205962       c1\n",
              "11   (3, 8, 2)  5.048742  5.948761       c1\n",
              "12   (9, 6, 5)  4.526566  2.025350       c2\n",
              "13  (7, 10, 4)  4.991830  5.178448       c1\n",
              "14   (2, 1, 8)  6.146179  7.556589       c1\n",
              "15  (10, 5, 3)  6.430159  2.945075       c2\n",
              "16   (5, 1, 7)  5.324184  5.233331       c2\n",
              "17   (3, 1, 9)  6.122891  7.442295       c1\n",
              "18   (3, 8, 7)  2.490799  6.008497       c1\n",
              "19  (10, 7, 2)  6.932620  4.135461       c2"
            ]
          },
          "metadata": {
            "tags": []
          },
          "execution_count": 40
        }
      ]
    },
    {
      "cell_type": "code",
      "metadata": {
        "id": "MJA19xvxJG0F"
      },
      "source": [
        ""
      ],
      "execution_count": null,
      "outputs": []
    },
    {
      "cell_type": "markdown",
      "metadata": {
        "id": "gaZwhGFuI9nr"
      },
      "source": [
        "#### 3: Apply a random-forest classifier and regression in your data with all preprocessing steps."
      ]
    },
    {
      "cell_type": "markdown",
      "metadata": {
        "id": "sVqAGYyiN35F"
      },
      "source": [
        "Random forest classifier"
      ]
    },
    {
      "cell_type": "code",
      "metadata": {
        "id": "0eWWJKC0I-Nj"
      },
      "source": [
        "import pandas as pd\n",
        "import numpy as np\n",
        "import sklearn\n",
        "from sklearn import model_selection"
      ],
      "execution_count": null,
      "outputs": []
    },
    {
      "cell_type": "code",
      "metadata": {
        "colab": {
          "base_uri": "https://localhost:8080/",
          "height": 439
        },
        "id": "a2P_OM8sJoWt",
        "outputId": "058e8934-0978-47b1-be7b-f8992e8366b7"
      },
      "source": [
        "garments_dataset = pd.read_csv('https://raw.githubusercontent.com/shivshaktisahoo/test/main/garments_worker_productivity.csv')\n",
        "garments_dataset"
      ],
      "execution_count": null,
      "outputs": [
        {
          "output_type": "execute_result",
          "data": {
            "text/html": [
              "<div>\n",
              "<style scoped>\n",
              "    .dataframe tbody tr th:only-of-type {\n",
              "        vertical-align: middle;\n",
              "    }\n",
              "\n",
              "    .dataframe tbody tr th {\n",
              "        vertical-align: top;\n",
              "    }\n",
              "\n",
              "    .dataframe thead th {\n",
              "        text-align: right;\n",
              "    }\n",
              "</style>\n",
              "<table border=\"1\" class=\"dataframe\">\n",
              "  <thead>\n",
              "    <tr style=\"text-align: right;\">\n",
              "      <th></th>\n",
              "      <th>date</th>\n",
              "      <th>quarter</th>\n",
              "      <th>department</th>\n",
              "      <th>day</th>\n",
              "      <th>team</th>\n",
              "      <th>targeted_productivity</th>\n",
              "      <th>smv</th>\n",
              "      <th>wip</th>\n",
              "      <th>over_time</th>\n",
              "      <th>incentive</th>\n",
              "      <th>idle_time</th>\n",
              "      <th>idle_men</th>\n",
              "      <th>no_of_style_change</th>\n",
              "      <th>no_of_workers</th>\n",
              "      <th>actual_productivity</th>\n",
              "    </tr>\n",
              "  </thead>\n",
              "  <tbody>\n",
              "    <tr>\n",
              "      <th>0</th>\n",
              "      <td>1/1/2015</td>\n",
              "      <td>Quarter1</td>\n",
              "      <td>sweing</td>\n",
              "      <td>Thursday</td>\n",
              "      <td>8</td>\n",
              "      <td>0.80</td>\n",
              "      <td>26.16</td>\n",
              "      <td>1108.0</td>\n",
              "      <td>7080</td>\n",
              "      <td>98</td>\n",
              "      <td>0.0</td>\n",
              "      <td>0</td>\n",
              "      <td>0</td>\n",
              "      <td>59.0</td>\n",
              "      <td>0.940725</td>\n",
              "    </tr>\n",
              "    <tr>\n",
              "      <th>1</th>\n",
              "      <td>1/1/2015</td>\n",
              "      <td>Quarter1</td>\n",
              "      <td>finishing</td>\n",
              "      <td>Thursday</td>\n",
              "      <td>1</td>\n",
              "      <td>0.75</td>\n",
              "      <td>3.94</td>\n",
              "      <td>NaN</td>\n",
              "      <td>960</td>\n",
              "      <td>0</td>\n",
              "      <td>0.0</td>\n",
              "      <td>0</td>\n",
              "      <td>0</td>\n",
              "      <td>8.0</td>\n",
              "      <td>0.886500</td>\n",
              "    </tr>\n",
              "    <tr>\n",
              "      <th>2</th>\n",
              "      <td>1/1/2015</td>\n",
              "      <td>Quarter1</td>\n",
              "      <td>sweing</td>\n",
              "      <td>Thursday</td>\n",
              "      <td>11</td>\n",
              "      <td>0.80</td>\n",
              "      <td>11.41</td>\n",
              "      <td>968.0</td>\n",
              "      <td>3660</td>\n",
              "      <td>50</td>\n",
              "      <td>0.0</td>\n",
              "      <td>0</td>\n",
              "      <td>0</td>\n",
              "      <td>30.5</td>\n",
              "      <td>0.800570</td>\n",
              "    </tr>\n",
              "    <tr>\n",
              "      <th>3</th>\n",
              "      <td>1/1/2015</td>\n",
              "      <td>Quarter1</td>\n",
              "      <td>sweing</td>\n",
              "      <td>Thursday</td>\n",
              "      <td>12</td>\n",
              "      <td>0.80</td>\n",
              "      <td>11.41</td>\n",
              "      <td>968.0</td>\n",
              "      <td>3660</td>\n",
              "      <td>50</td>\n",
              "      <td>0.0</td>\n",
              "      <td>0</td>\n",
              "      <td>0</td>\n",
              "      <td>30.5</td>\n",
              "      <td>0.800570</td>\n",
              "    </tr>\n",
              "    <tr>\n",
              "      <th>4</th>\n",
              "      <td>1/1/2015</td>\n",
              "      <td>Quarter1</td>\n",
              "      <td>sweing</td>\n",
              "      <td>Thursday</td>\n",
              "      <td>6</td>\n",
              "      <td>0.80</td>\n",
              "      <td>25.90</td>\n",
              "      <td>1170.0</td>\n",
              "      <td>1920</td>\n",
              "      <td>50</td>\n",
              "      <td>0.0</td>\n",
              "      <td>0</td>\n",
              "      <td>0</td>\n",
              "      <td>56.0</td>\n",
              "      <td>0.800382</td>\n",
              "    </tr>\n",
              "    <tr>\n",
              "      <th>...</th>\n",
              "      <td>...</td>\n",
              "      <td>...</td>\n",
              "      <td>...</td>\n",
              "      <td>...</td>\n",
              "      <td>...</td>\n",
              "      <td>...</td>\n",
              "      <td>...</td>\n",
              "      <td>...</td>\n",
              "      <td>...</td>\n",
              "      <td>...</td>\n",
              "      <td>...</td>\n",
              "      <td>...</td>\n",
              "      <td>...</td>\n",
              "      <td>...</td>\n",
              "      <td>...</td>\n",
              "    </tr>\n",
              "    <tr>\n",
              "      <th>1192</th>\n",
              "      <td>3/11/2015</td>\n",
              "      <td>Quarter2</td>\n",
              "      <td>finishing</td>\n",
              "      <td>Wednesday</td>\n",
              "      <td>10</td>\n",
              "      <td>0.75</td>\n",
              "      <td>2.90</td>\n",
              "      <td>NaN</td>\n",
              "      <td>960</td>\n",
              "      <td>0</td>\n",
              "      <td>0.0</td>\n",
              "      <td>0</td>\n",
              "      <td>0</td>\n",
              "      <td>8.0</td>\n",
              "      <td>0.628333</td>\n",
              "    </tr>\n",
              "    <tr>\n",
              "      <th>1193</th>\n",
              "      <td>3/11/2015</td>\n",
              "      <td>Quarter2</td>\n",
              "      <td>finishing</td>\n",
              "      <td>Wednesday</td>\n",
              "      <td>8</td>\n",
              "      <td>0.70</td>\n",
              "      <td>3.90</td>\n",
              "      <td>NaN</td>\n",
              "      <td>960</td>\n",
              "      <td>0</td>\n",
              "      <td>0.0</td>\n",
              "      <td>0</td>\n",
              "      <td>0</td>\n",
              "      <td>8.0</td>\n",
              "      <td>0.625625</td>\n",
              "    </tr>\n",
              "    <tr>\n",
              "      <th>1194</th>\n",
              "      <td>3/11/2015</td>\n",
              "      <td>Quarter2</td>\n",
              "      <td>finishing</td>\n",
              "      <td>Wednesday</td>\n",
              "      <td>7</td>\n",
              "      <td>0.65</td>\n",
              "      <td>3.90</td>\n",
              "      <td>NaN</td>\n",
              "      <td>960</td>\n",
              "      <td>0</td>\n",
              "      <td>0.0</td>\n",
              "      <td>0</td>\n",
              "      <td>0</td>\n",
              "      <td>8.0</td>\n",
              "      <td>0.625625</td>\n",
              "    </tr>\n",
              "    <tr>\n",
              "      <th>1195</th>\n",
              "      <td>3/11/2015</td>\n",
              "      <td>Quarter2</td>\n",
              "      <td>finishing</td>\n",
              "      <td>Wednesday</td>\n",
              "      <td>9</td>\n",
              "      <td>0.75</td>\n",
              "      <td>2.90</td>\n",
              "      <td>NaN</td>\n",
              "      <td>1800</td>\n",
              "      <td>0</td>\n",
              "      <td>0.0</td>\n",
              "      <td>0</td>\n",
              "      <td>0</td>\n",
              "      <td>15.0</td>\n",
              "      <td>0.505889</td>\n",
              "    </tr>\n",
              "    <tr>\n",
              "      <th>1196</th>\n",
              "      <td>3/11/2015</td>\n",
              "      <td>Quarter2</td>\n",
              "      <td>finishing</td>\n",
              "      <td>Wednesday</td>\n",
              "      <td>6</td>\n",
              "      <td>0.70</td>\n",
              "      <td>2.90</td>\n",
              "      <td>NaN</td>\n",
              "      <td>720</td>\n",
              "      <td>0</td>\n",
              "      <td>0.0</td>\n",
              "      <td>0</td>\n",
              "      <td>0</td>\n",
              "      <td>6.0</td>\n",
              "      <td>0.394722</td>\n",
              "    </tr>\n",
              "  </tbody>\n",
              "</table>\n",
              "<p>1197 rows × 15 columns</p>\n",
              "</div>"
            ],
            "text/plain": [
              "           date   quarter  ... no_of_workers actual_productivity\n",
              "0      1/1/2015  Quarter1  ...          59.0            0.940725\n",
              "1      1/1/2015  Quarter1  ...           8.0            0.886500\n",
              "2      1/1/2015  Quarter1  ...          30.5            0.800570\n",
              "3      1/1/2015  Quarter1  ...          30.5            0.800570\n",
              "4      1/1/2015  Quarter1  ...          56.0            0.800382\n",
              "...         ...       ...  ...           ...                 ...\n",
              "1192  3/11/2015  Quarter2  ...           8.0            0.628333\n",
              "1193  3/11/2015  Quarter2  ...           8.0            0.625625\n",
              "1194  3/11/2015  Quarter2  ...           8.0            0.625625\n",
              "1195  3/11/2015  Quarter2  ...          15.0            0.505889\n",
              "1196  3/11/2015  Quarter2  ...           6.0            0.394722\n",
              "\n",
              "[1197 rows x 15 columns]"
            ]
          },
          "metadata": {
            "tags": []
          },
          "execution_count": 142
        }
      ]
    },
    {
      "cell_type": "code",
      "metadata": {
        "colab": {
          "base_uri": "https://localhost:8080/"
        },
        "id": "xR4BwNBUJpxU",
        "outputId": "313adb1d-a365-4147-b0cb-42dd429ce406"
      },
      "source": [
        "## Preprocessing /////////////////\n",
        "\n",
        "garments_dataset['wip'] = garments_dataset['wip'].fillna(0)\n",
        "garments_dataset['quarter'] = garments_dataset['quarter'].map({'Quarter1':1, 'Quarter2':2, 'Quarter3':3, 'Quarter4':4, 'Quarter5':5})\n",
        "for i in range(len(garments_dataset)):\n",
        "  garments_dataset['department'][i] = garments_dataset['department'][i].strip()\n",
        "garments_dataset['department'] = garments_dataset['department'].map({'sweing':1, 'finishing':0})\n",
        "garments_dataset['day'] = garments_dataset['day'].map({'Saturday':1, 'Sunday':2, 'Monday':3, 'Tuesday':4, 'Wednesday':5,'Thursday':6})\n",
        "var1 = garments_dataset['actual_productivity']\n",
        "for i in enumerate(var1):\n",
        "  if (var1[i[0]]>0 and var1[i[0]]<=0.4):\n",
        "    var1[i[0]] = 1     # 1 represents low productivity\n",
        "  elif (var1[i[0]]>0.4 and var1[i[0]]<=0.75):\n",
        "    var1[i[0]] = 2     # 2 represents medim productivity\n",
        "  else:\n",
        "    var1[i[0]] = 3     # 3 represents high productivity\n",
        "\n",
        "garments_corr = garments_dataset.drop(['date'], axis=1).corr()\n",
        "# garments_corr\n",
        "\n",
        "# relationship between attribute and targeted column with minimum threshold\n",
        "MIN_THRES = 0.05\n",
        "garments_final_attr = []\n",
        "for i in garments_corr.drop(['actual_productivity'],axis=1):\n",
        "  if abs(garments_corr[i]['actual_productivity']) >= MIN_THRES:\n",
        "      garments_final_attr.append(i)\n",
        "# print(garments_final_attr)\n",
        "\n",
        "# relationship between attribute and attribute with maximum threshold\n",
        "MAX_THRES = 0.85\n",
        "list1 = list(garments_corr.columns)\n",
        "max_final_attr = []\n",
        "for i in enumerate(list1):\n",
        "  for j in list1[i[0]+1:]:\n",
        "    if abs(garments_corr[i[1]][j]) >= MAX_THRES:\n",
        "      # print(abs(garments_corr[i[1]][j]),i[1],j)\n",
        "      max_final_attr.append(i[1])\n",
        "print(max_final_attr)"
      ],
      "execution_count": null,
      "outputs": [
        {
          "output_type": "stream",
          "text": [
            "['department', 'department', 'smv']\n"
          ],
          "name": "stdout"
        },
        {
          "output_type": "stream",
          "text": [
            "/usr/local/lib/python3.7/dist-packages/ipykernel_launcher.py:6: SettingWithCopyWarning: \n",
            "A value is trying to be set on a copy of a slice from a DataFrame\n",
            "\n",
            "See the caveats in the documentation: https://pandas.pydata.org/pandas-docs/stable/user_guide/indexing.html#returning-a-view-versus-a-copy\n",
            "  \n",
            "/usr/local/lib/python3.7/dist-packages/ipykernel_launcher.py:16: SettingWithCopyWarning: \n",
            "A value is trying to be set on a copy of a slice from a DataFrame\n",
            "\n",
            "See the caveats in the documentation: https://pandas.pydata.org/pandas-docs/stable/user_guide/indexing.html#returning-a-view-versus-a-copy\n",
            "  app.launch_new_instance()\n",
            "/usr/local/lib/python3.7/dist-packages/ipykernel_launcher.py:14: SettingWithCopyWarning: \n",
            "A value is trying to be set on a copy of a slice from a DataFrame\n",
            "\n",
            "See the caveats in the documentation: https://pandas.pydata.org/pandas-docs/stable/user_guide/indexing.html#returning-a-view-versus-a-copy\n",
            "  \n",
            "/usr/local/lib/python3.7/dist-packages/ipykernel_launcher.py:12: SettingWithCopyWarning: \n",
            "A value is trying to be set on a copy of a slice from a DataFrame\n",
            "\n",
            "See the caveats in the documentation: https://pandas.pydata.org/pandas-docs/stable/user_guide/indexing.html#returning-a-view-versus-a-copy\n",
            "  if sys.path[0] == '':\n"
          ],
          "name": "stderr"
        }
      ]
    },
    {
      "cell_type": "code",
      "metadata": {
        "id": "rPn8wGtgKCNz"
      },
      "source": [
        "X = garments_dataset.drop(['date','actual_productivity','department', 'smv'], axis=1)\n",
        "Y = garments_dataset['actual_productivity']\n",
        "x_train, x_test, y_train, y_test = sklearn.model_selection.train_test_split(X,Y,test_size=0.1)"
      ],
      "execution_count": null,
      "outputs": []
    },
    {
      "cell_type": "code",
      "metadata": {
        "colab": {
          "base_uri": "https://localhost:8080/"
        },
        "id": "wA4Mha4rKXsD",
        "outputId": "6fa676af-6d98-4f8d-c935-32ada6521abd"
      },
      "source": [
        "from sklearn.ensemble import RandomForestClassifier\n",
        "clf = RandomForestClassifier(random_state=0)\n",
        "clf.fit(x_train,y_train)"
      ],
      "execution_count": null,
      "outputs": [
        {
          "output_type": "execute_result",
          "data": {
            "text/plain": [
              "RandomForestClassifier(bootstrap=True, ccp_alpha=0.0, class_weight=None,\n",
              "                       criterion='gini', max_depth=None, max_features='auto',\n",
              "                       max_leaf_nodes=None, max_samples=None,\n",
              "                       min_impurity_decrease=0.0, min_impurity_split=None,\n",
              "                       min_samples_leaf=1, min_samples_split=2,\n",
              "                       min_weight_fraction_leaf=0.0, n_estimators=100,\n",
              "                       n_jobs=None, oob_score=False, random_state=0, verbose=0,\n",
              "                       warm_start=False)"
            ]
          },
          "metadata": {
            "tags": []
          },
          "execution_count": 145
        }
      ]
    },
    {
      "cell_type": "code",
      "metadata": {
        "colab": {
          "base_uri": "https://localhost:8080/"
        },
        "id": "O8jKheNzLj-Q",
        "outputId": "28203afa-d0ff-4595-cd43-10116b74c4d0"
      },
      "source": [
        "clf.score(x_test,y_test)"
      ],
      "execution_count": null,
      "outputs": [
        {
          "output_type": "execute_result",
          "data": {
            "text/plain": [
              "0.7916666666666666"
            ]
          },
          "metadata": {
            "tags": []
          },
          "execution_count": 146
        }
      ]
    },
    {
      "cell_type": "code",
      "metadata": {
        "colab": {
          "base_uri": "https://localhost:8080/"
        },
        "id": "C0jLnm-OLSz0",
        "outputId": "be389aba-e588-4891-f60a-b70932f9ceb7"
      },
      "source": [
        "prediction = clf.predict_proba(np.array([1,\t6,\t8,\t0.80,\t118.0,\t7080,\t98,\t0.0,\t0,\t0,\t59.0]).reshape(1,-1))[0]\n",
        "predicted_target = np.argmax(prediction)\n",
        "predicted_percentage = round(np.max(prediction)*100,2)\n",
        "classify = ['low productivity','medium productivity','high productivity']\n",
        "print(f\"Their is {predicted_percentage}% chance of target {predicted_target} ==> {classify[predicted_target-1]} \")"
      ],
      "execution_count": null,
      "outputs": [
        {
          "output_type": "stream",
          "text": [
            "Their is 89.0% chance of target 2 ==> medium productivity \n"
          ],
          "name": "stdout"
        }
      ]
    },
    {
      "cell_type": "markdown",
      "metadata": {
        "id": "GdmD2-NKK6tG"
      },
      "source": [
        "Random forest Regressor "
      ]
    },
    {
      "cell_type": "code",
      "metadata": {
        "colab": {
          "base_uri": "https://localhost:8080/",
          "height": 439
        },
        "id": "WrJ5mK6ILB5R",
        "outputId": "1cd3a754-031a-4c45-c2c1-a8a009d03b49"
      },
      "source": [
        "garments_dataset = pd.read_csv('https://raw.githubusercontent.com/shivshaktisahoo/test/main/garments_worker_productivity.csv')\n",
        "garments_dataset"
      ],
      "execution_count": null,
      "outputs": [
        {
          "output_type": "execute_result",
          "data": {
            "text/html": [
              "<div>\n",
              "<style scoped>\n",
              "    .dataframe tbody tr th:only-of-type {\n",
              "        vertical-align: middle;\n",
              "    }\n",
              "\n",
              "    .dataframe tbody tr th {\n",
              "        vertical-align: top;\n",
              "    }\n",
              "\n",
              "    .dataframe thead th {\n",
              "        text-align: right;\n",
              "    }\n",
              "</style>\n",
              "<table border=\"1\" class=\"dataframe\">\n",
              "  <thead>\n",
              "    <tr style=\"text-align: right;\">\n",
              "      <th></th>\n",
              "      <th>date</th>\n",
              "      <th>quarter</th>\n",
              "      <th>department</th>\n",
              "      <th>day</th>\n",
              "      <th>team</th>\n",
              "      <th>targeted_productivity</th>\n",
              "      <th>smv</th>\n",
              "      <th>wip</th>\n",
              "      <th>over_time</th>\n",
              "      <th>incentive</th>\n",
              "      <th>idle_time</th>\n",
              "      <th>idle_men</th>\n",
              "      <th>no_of_style_change</th>\n",
              "      <th>no_of_workers</th>\n",
              "      <th>actual_productivity</th>\n",
              "    </tr>\n",
              "  </thead>\n",
              "  <tbody>\n",
              "    <tr>\n",
              "      <th>0</th>\n",
              "      <td>1/1/2015</td>\n",
              "      <td>Quarter1</td>\n",
              "      <td>sweing</td>\n",
              "      <td>Thursday</td>\n",
              "      <td>8</td>\n",
              "      <td>0.80</td>\n",
              "      <td>26.16</td>\n",
              "      <td>1108.0</td>\n",
              "      <td>7080</td>\n",
              "      <td>98</td>\n",
              "      <td>0.0</td>\n",
              "      <td>0</td>\n",
              "      <td>0</td>\n",
              "      <td>59.0</td>\n",
              "      <td>0.940725</td>\n",
              "    </tr>\n",
              "    <tr>\n",
              "      <th>1</th>\n",
              "      <td>1/1/2015</td>\n",
              "      <td>Quarter1</td>\n",
              "      <td>finishing</td>\n",
              "      <td>Thursday</td>\n",
              "      <td>1</td>\n",
              "      <td>0.75</td>\n",
              "      <td>3.94</td>\n",
              "      <td>NaN</td>\n",
              "      <td>960</td>\n",
              "      <td>0</td>\n",
              "      <td>0.0</td>\n",
              "      <td>0</td>\n",
              "      <td>0</td>\n",
              "      <td>8.0</td>\n",
              "      <td>0.886500</td>\n",
              "    </tr>\n",
              "    <tr>\n",
              "      <th>2</th>\n",
              "      <td>1/1/2015</td>\n",
              "      <td>Quarter1</td>\n",
              "      <td>sweing</td>\n",
              "      <td>Thursday</td>\n",
              "      <td>11</td>\n",
              "      <td>0.80</td>\n",
              "      <td>11.41</td>\n",
              "      <td>968.0</td>\n",
              "      <td>3660</td>\n",
              "      <td>50</td>\n",
              "      <td>0.0</td>\n",
              "      <td>0</td>\n",
              "      <td>0</td>\n",
              "      <td>30.5</td>\n",
              "      <td>0.800570</td>\n",
              "    </tr>\n",
              "    <tr>\n",
              "      <th>3</th>\n",
              "      <td>1/1/2015</td>\n",
              "      <td>Quarter1</td>\n",
              "      <td>sweing</td>\n",
              "      <td>Thursday</td>\n",
              "      <td>12</td>\n",
              "      <td>0.80</td>\n",
              "      <td>11.41</td>\n",
              "      <td>968.0</td>\n",
              "      <td>3660</td>\n",
              "      <td>50</td>\n",
              "      <td>0.0</td>\n",
              "      <td>0</td>\n",
              "      <td>0</td>\n",
              "      <td>30.5</td>\n",
              "      <td>0.800570</td>\n",
              "    </tr>\n",
              "    <tr>\n",
              "      <th>4</th>\n",
              "      <td>1/1/2015</td>\n",
              "      <td>Quarter1</td>\n",
              "      <td>sweing</td>\n",
              "      <td>Thursday</td>\n",
              "      <td>6</td>\n",
              "      <td>0.80</td>\n",
              "      <td>25.90</td>\n",
              "      <td>1170.0</td>\n",
              "      <td>1920</td>\n",
              "      <td>50</td>\n",
              "      <td>0.0</td>\n",
              "      <td>0</td>\n",
              "      <td>0</td>\n",
              "      <td>56.0</td>\n",
              "      <td>0.800382</td>\n",
              "    </tr>\n",
              "    <tr>\n",
              "      <th>...</th>\n",
              "      <td>...</td>\n",
              "      <td>...</td>\n",
              "      <td>...</td>\n",
              "      <td>...</td>\n",
              "      <td>...</td>\n",
              "      <td>...</td>\n",
              "      <td>...</td>\n",
              "      <td>...</td>\n",
              "      <td>...</td>\n",
              "      <td>...</td>\n",
              "      <td>...</td>\n",
              "      <td>...</td>\n",
              "      <td>...</td>\n",
              "      <td>...</td>\n",
              "      <td>...</td>\n",
              "    </tr>\n",
              "    <tr>\n",
              "      <th>1192</th>\n",
              "      <td>3/11/2015</td>\n",
              "      <td>Quarter2</td>\n",
              "      <td>finishing</td>\n",
              "      <td>Wednesday</td>\n",
              "      <td>10</td>\n",
              "      <td>0.75</td>\n",
              "      <td>2.90</td>\n",
              "      <td>NaN</td>\n",
              "      <td>960</td>\n",
              "      <td>0</td>\n",
              "      <td>0.0</td>\n",
              "      <td>0</td>\n",
              "      <td>0</td>\n",
              "      <td>8.0</td>\n",
              "      <td>0.628333</td>\n",
              "    </tr>\n",
              "    <tr>\n",
              "      <th>1193</th>\n",
              "      <td>3/11/2015</td>\n",
              "      <td>Quarter2</td>\n",
              "      <td>finishing</td>\n",
              "      <td>Wednesday</td>\n",
              "      <td>8</td>\n",
              "      <td>0.70</td>\n",
              "      <td>3.90</td>\n",
              "      <td>NaN</td>\n",
              "      <td>960</td>\n",
              "      <td>0</td>\n",
              "      <td>0.0</td>\n",
              "      <td>0</td>\n",
              "      <td>0</td>\n",
              "      <td>8.0</td>\n",
              "      <td>0.625625</td>\n",
              "    </tr>\n",
              "    <tr>\n",
              "      <th>1194</th>\n",
              "      <td>3/11/2015</td>\n",
              "      <td>Quarter2</td>\n",
              "      <td>finishing</td>\n",
              "      <td>Wednesday</td>\n",
              "      <td>7</td>\n",
              "      <td>0.65</td>\n",
              "      <td>3.90</td>\n",
              "      <td>NaN</td>\n",
              "      <td>960</td>\n",
              "      <td>0</td>\n",
              "      <td>0.0</td>\n",
              "      <td>0</td>\n",
              "      <td>0</td>\n",
              "      <td>8.0</td>\n",
              "      <td>0.625625</td>\n",
              "    </tr>\n",
              "    <tr>\n",
              "      <th>1195</th>\n",
              "      <td>3/11/2015</td>\n",
              "      <td>Quarter2</td>\n",
              "      <td>finishing</td>\n",
              "      <td>Wednesday</td>\n",
              "      <td>9</td>\n",
              "      <td>0.75</td>\n",
              "      <td>2.90</td>\n",
              "      <td>NaN</td>\n",
              "      <td>1800</td>\n",
              "      <td>0</td>\n",
              "      <td>0.0</td>\n",
              "      <td>0</td>\n",
              "      <td>0</td>\n",
              "      <td>15.0</td>\n",
              "      <td>0.505889</td>\n",
              "    </tr>\n",
              "    <tr>\n",
              "      <th>1196</th>\n",
              "      <td>3/11/2015</td>\n",
              "      <td>Quarter2</td>\n",
              "      <td>finishing</td>\n",
              "      <td>Wednesday</td>\n",
              "      <td>6</td>\n",
              "      <td>0.70</td>\n",
              "      <td>2.90</td>\n",
              "      <td>NaN</td>\n",
              "      <td>720</td>\n",
              "      <td>0</td>\n",
              "      <td>0.0</td>\n",
              "      <td>0</td>\n",
              "      <td>0</td>\n",
              "      <td>6.0</td>\n",
              "      <td>0.394722</td>\n",
              "    </tr>\n",
              "  </tbody>\n",
              "</table>\n",
              "<p>1197 rows × 15 columns</p>\n",
              "</div>"
            ],
            "text/plain": [
              "           date   quarter  ... no_of_workers actual_productivity\n",
              "0      1/1/2015  Quarter1  ...          59.0            0.940725\n",
              "1      1/1/2015  Quarter1  ...           8.0            0.886500\n",
              "2      1/1/2015  Quarter1  ...          30.5            0.800570\n",
              "3      1/1/2015  Quarter1  ...          30.5            0.800570\n",
              "4      1/1/2015  Quarter1  ...          56.0            0.800382\n",
              "...         ...       ...  ...           ...                 ...\n",
              "1192  3/11/2015  Quarter2  ...           8.0            0.628333\n",
              "1193  3/11/2015  Quarter2  ...           8.0            0.625625\n",
              "1194  3/11/2015  Quarter2  ...           8.0            0.625625\n",
              "1195  3/11/2015  Quarter2  ...          15.0            0.505889\n",
              "1196  3/11/2015  Quarter2  ...           6.0            0.394722\n",
              "\n",
              "[1197 rows x 15 columns]"
            ]
          },
          "metadata": {
            "tags": []
          },
          "execution_count": 167
        }
      ]
    },
    {
      "cell_type": "code",
      "metadata": {
        "colab": {
          "base_uri": "https://localhost:8080/"
        },
        "id": "IIEt18QZLDUg",
        "outputId": "beec1f5f-75c2-44f3-dcec-999d6b918187"
      },
      "source": [
        "## preprocessing /////////////////\n",
        "garments_dataset['wip'] = garments_dataset['wip'].fillna(0)\n",
        "garments_dataset['quarter'] = garments_dataset['quarter'].map({'Quarter1':1, 'Quarter2':2, 'Quarter3':3, 'Quarter4':4, 'Quarter5':5})\n",
        "for i in range(len(garments_dataset)):\n",
        "  garments_dataset['department'][i] = garments_dataset['department'][i].strip()\n",
        "garments_dataset['department'] = garments_dataset['department'].map({'sweing':1, 'finishing':0})\n",
        "garments_dataset['day'] = garments_dataset['day'].map({'Saturday':1, 'Sunday':2, 'Monday':3, 'Tuesday':4, 'Wednesday':5,'Thursday':6})\n",
        "\n",
        "garments_corr = garments_dataset.drop(['date'], axis=1).corr()\n",
        "# garments_corr\n",
        "\n",
        "# relationship between attribute and targeted column with minimum threshold\n",
        "MIN_THRES = 0.05\n",
        "garments_final_attr = []\n",
        "for i in garments_corr.drop(['actual_productivity'],axis=1):\n",
        "  if abs(garments_corr[i]['actual_productivity']) >= MIN_THRES:\n",
        "      garments_final_attr.append(i)\n",
        "print(garments_final_attr)\n",
        "\n",
        "# relationship between attribute and attribute with maximum threshold\n",
        "MAX_THRES = 0.85\n",
        "list1 = list(garments_corr.columns)\n",
        "max_final_attr = []\n",
        "for i in enumerate(list1):\n",
        "  for j in list1[i[0]+1:]:\n",
        "    if abs(garments_corr[i[1]][j]) >= MAX_THRES:\n",
        "      # print(abs(garments_corr[i[1]][j]),i[1],j)\n",
        "      max_final_attr.append(i[1])\n",
        "print(max_final_attr)\n"
      ],
      "execution_count": null,
      "outputs": [
        {
          "output_type": "stream",
          "text": [
            "['quarter', 'department', 'team', 'targeted_productivity', 'smv', 'over_time', 'incentive', 'idle_time', 'idle_men', 'no_of_style_change', 'no_of_workers']\n",
            "['department', 'department', 'smv']\n"
          ],
          "name": "stdout"
        },
        {
          "output_type": "stream",
          "text": [
            "/usr/local/lib/python3.7/dist-packages/ipykernel_launcher.py:5: SettingWithCopyWarning: \n",
            "A value is trying to be set on a copy of a slice from a DataFrame\n",
            "\n",
            "See the caveats in the documentation: https://pandas.pydata.org/pandas-docs/stable/user_guide/indexing.html#returning-a-view-versus-a-copy\n",
            "  \"\"\"\n"
          ],
          "name": "stderr"
        }
      ]
    },
    {
      "cell_type": "code",
      "metadata": {
        "id": "dmPfLhDsMe-y"
      },
      "source": [
        "X = garments_dataset.drop(['date','actual_productivity','department', 'smv'], axis=1)\n",
        "Y = garments_dataset['actual_productivity']\n",
        "x_train, x_test, y_train, y_test = sklearn.model_selection.train_test_split(X,Y,test_size=0.1)"
      ],
      "execution_count": null,
      "outputs": []
    },
    {
      "cell_type": "code",
      "metadata": {
        "colab": {
          "base_uri": "https://localhost:8080/"
        },
        "id": "l1Z6FfY3MoQq",
        "outputId": "d9a88f76-c082-44bb-941f-396418d6b36f"
      },
      "source": [
        "from sklearn.ensemble import RandomForestRegressor\n",
        "clf = RandomForestRegressor(random_state=0)\n",
        "clf.fit(x_train,y_train)"
      ],
      "execution_count": null,
      "outputs": [
        {
          "output_type": "execute_result",
          "data": {
            "text/plain": [
              "RandomForestRegressor(bootstrap=True, ccp_alpha=0.0, criterion='mse',\n",
              "                      max_depth=None, max_features='auto', max_leaf_nodes=None,\n",
              "                      max_samples=None, min_impurity_decrease=0.0,\n",
              "                      min_impurity_split=None, min_samples_leaf=1,\n",
              "                      min_samples_split=2, min_weight_fraction_leaf=0.0,\n",
              "                      n_estimators=100, n_jobs=None, oob_score=False,\n",
              "                      random_state=0, verbose=0, warm_start=False)"
            ]
          },
          "metadata": {
            "tags": []
          },
          "execution_count": 179
        }
      ]
    },
    {
      "cell_type": "code",
      "metadata": {
        "colab": {
          "base_uri": "https://localhost:8080/"
        },
        "id": "4JIWW6aZMe8g",
        "outputId": "ce6a040a-0755-4854-f6f3-7e9fae14f77f"
      },
      "source": [
        "clf.score(x_test,y_test)"
      ],
      "execution_count": null,
      "outputs": [
        {
          "output_type": "execute_result",
          "data": {
            "text/plain": [
              "0.610746055431796"
            ]
          },
          "metadata": {
            "tags": []
          },
          "execution_count": 180
        }
      ]
    },
    {
      "cell_type": "code",
      "metadata": {
        "colab": {
          "base_uri": "https://localhost:8080/"
        },
        "id": "MRB4MvVEMe5x",
        "outputId": "56c96b72-d5a1-4bbb-d18e-9ecfe46b4117"
      },
      "source": [
        "prediction = clf.predict(np.array([1,\t6,\t8,\t0.80,\t118.0,\t7080,\t98,\t0.0,\t0,\t0,\t59.0]).reshape(1,-1))[0]\n",
        "prediction"
      ],
      "execution_count": null,
      "outputs": [
        {
          "output_type": "execute_result",
          "data": {
            "text/plain": [
              "0.9176066615679426"
            ]
          },
          "metadata": {
            "tags": []
          },
          "execution_count": 181
        }
      ]
    }
  ]
}
{
  "nbformat": 4,
  "nbformat_minor": 0,
  "metadata": {
    "colab": {
      "name": "Shiv_Regression_Underfitting_Overfitting_DataSets(10th june).ipynb",
      "provenance": [],
      "collapsed_sections": [],
      "toc_visible": true
    },
    "kernelspec": {
      "name": "python3",
      "display_name": "Python 3"
    },
    "language_info": {
      "name": "python"
    }
  },
  "cells": [
    {
      "cell_type": "code",
      "metadata": {
        "id": "sSYKdhc-EOIS"
      },
      "source": [
        "import pandas as pd\n",
        "import numpy as np\n",
        "import matplotlib.pyplot as plt\n",
        "plt.rcParams[\"figure.figsize\"] = (15,5)\n"
      ],
      "execution_count": null,
      "outputs": []
    },
    {
      "cell_type": "markdown",
      "metadata": {
        "id": "mg_9wmvVEk-9"
      },
      "source": [
        "# 1. Salaries Datasets"
      ]
    },
    {
      "cell_type": "code",
      "metadata": {
        "colab": {
          "base_uri": "https://localhost:8080/",
          "height": 142
        },
        "id": "jKt4k9CeEgQ1",
        "outputId": "089404ea-610d-4328-9b95-124d9c646954"
      },
      "source": [
        "dataset1 = pd.read_csv(\"https://raw.githubusercontent.com/shivshaktisahoo/test/main/salaries.csv\")\n",
        "dataset1.head(3)"
      ],
      "execution_count": null,
      "outputs": [
        {
          "output_type": "execute_result",
          "data": {
            "text/html": [
              "<div>\n",
              "<style scoped>\n",
              "    .dataframe tbody tr th:only-of-type {\n",
              "        vertical-align: middle;\n",
              "    }\n",
              "\n",
              "    .dataframe tbody tr th {\n",
              "        vertical-align: top;\n",
              "    }\n",
              "\n",
              "    .dataframe thead th {\n",
              "        text-align: right;\n",
              "    }\n",
              "</style>\n",
              "<table border=\"1\" class=\"dataframe\">\n",
              "  <thead>\n",
              "    <tr style=\"text-align: right;\">\n",
              "      <th></th>\n",
              "      <th>Years of Experience</th>\n",
              "      <th>Salary</th>\n",
              "    </tr>\n",
              "  </thead>\n",
              "  <tbody>\n",
              "    <tr>\n",
              "      <th>0</th>\n",
              "      <td>1.1</td>\n",
              "      <td>39343</td>\n",
              "    </tr>\n",
              "    <tr>\n",
              "      <th>1</th>\n",
              "      <td>1.3</td>\n",
              "      <td>46205</td>\n",
              "    </tr>\n",
              "    <tr>\n",
              "      <th>2</th>\n",
              "      <td>1.5</td>\n",
              "      <td>37731</td>\n",
              "    </tr>\n",
              "  </tbody>\n",
              "</table>\n",
              "</div>"
            ],
            "text/plain": [
              "   Years of Experience  Salary\n",
              "0                  1.1   39343\n",
              "1                  1.3   46205\n",
              "2                  1.5   37731"
            ]
          },
          "metadata": {
            "tags": []
          },
          "execution_count": 4
        }
      ]
    },
    {
      "cell_type": "code",
      "metadata": {
        "colab": {
          "base_uri": "https://localhost:8080/"
        },
        "id": "o4TG4OvGIAsD",
        "outputId": "84b644a0-d4ab-4be9-a6d9-65ba00478d38"
      },
      "source": [
        "x = dataset1['Years of Experience']\n",
        "y = dataset1['Salary']\n",
        "sum1 = 0 \n",
        "sum2 = 0\n",
        "for i in range(len(dataset1)):\n",
        "  sum1 += (x[i] - x.mean()) * (y[i] - y.mean())\n",
        "  sum2 += (x[i] - x.mean())**2 \n",
        "\n",
        "m = sum1/sum2\n",
        "c = y.mean() - m*x.mean()\n",
        "print(f\"Slope(m) = {m}\\nIntercept(c) = {c}\")\n",
        "\n",
        "x_minval = x.min()-1\n",
        "x_maxval = x.max()+1\n",
        "plot_x = np.linspace(x_minval,x_maxval,10)\n",
        "plot_y = m * plot_x + c\n",
        "print(plot_x)\n",
        "print(plot_y)"
      ],
      "execution_count": null,
      "outputs": [
        {
          "output_type": "stream",
          "text": [
            "Slope(m) = 9449.962321455077\n",
            "Intercept(c) = 25792.20019866869\n",
            "[ 0.1         1.36666667  2.63333333  3.9         5.16666667  6.43333333\n",
            "  7.7         8.96666667 10.23333333 11.5       ]\n",
            "[ 26737.19643081  38707.14870466  50677.1009785   62647.05325234\n",
            "  74617.00552619  86586.95780003  98556.91007387 110526.86234772\n",
            " 122496.81462156 134466.7668954 ]\n"
          ],
          "name": "stdout"
        }
      ]
    },
    {
      "cell_type": "code",
      "metadata": {
        "colab": {
          "base_uri": "https://localhost:8080/",
          "height": 363
        },
        "id": "9jYEnUIUIM1z",
        "outputId": "295946d5-06c3-4ab0-aa06-27ba90e6127e"
      },
      "source": [
        "plt.plot(plot_x,plot_y,color=\"green\")\n",
        "plt.scatter(x,y,linewidth=1)\n",
        "plt.title(\"Salaries  Chart :\", color=\"Red\", size=20)\n",
        "plt.xticks(size=12)\n",
        "plt.yticks(size=12)\n",
        "plt.xlabel(\"Years of Experience -------->\",c='Brown', size=15)\n",
        "plt.ylabel(\"Salary (in $)--------->\",c='Brown', size=15)\n",
        "plt.grid()\n",
        "plt.show()"
      ],
      "execution_count": null,
      "outputs": [
        {
          "output_type": "display_data",
          "data": {
            "image/png": "[encoded data removed]",
            "text/plain": [
              "<Figure size 1080x360 with 1 Axes>"
            ]
          },
          "metadata": {
            "tags": [],
            "needs_background": "light"
          }
        }
      ]
    },
    {
      "cell_type": "code",
      "metadata": {
        "colab": {
          "base_uri": "https://localhost:8080/"
        },
        "id": "kBLaRFlxIt2w",
        "outputId": "0cbf7c6c-cb06-45a7-c630-d5b4aa9ce49a"
      },
      "source": [
        "def predict(x):\n",
        "  return round(m*x+c)\n",
        "def  error(y_actual, y_predicted):\n",
        "  err = abs(y_actual - y_predicted)\n",
        "  return round((err/y_actual)*100)\n",
        "arr1 = np.array([])\n",
        "for year, salary in zip(x,y):\n",
        "  # print(f\"Prediction is {predict(year)} actual is {salary}, ERROR : {error(salary,predict(year))}%\")\n",
        "  arr1 = np.append(arr1,error(salary,predict(year)))\n",
        "accuracy = 100 - arr1.mean()\n",
        "print(f\"Accuracy of model is {accuracy}\")\n"
      ],
      "execution_count": null,
      "outputs": [
        {
          "output_type": "stream",
          "text": [
            "Accuracy of model is 92.93333333333334\n"
          ],
          "name": "stdout"
        }
      ]
    },
    {
      "cell_type": "markdown",
      "metadata": {
        "id": "puNbI67REsUF"
      },
      "source": [
        "# 2. Real estate price prediction Datasets"
      ]
    },
    {
      "cell_type": "code",
      "metadata": {
        "colab": {
          "base_uri": "https://localhost:8080/",
          "height": 221
        },
        "id": "vnXRRUmgExIu",
        "outputId": "cd92c07c-c48e-43bb-fba8-f90c47a27317"
      },
      "source": [
        "dataset2 = pd.read_csv(\"https://raw.githubusercontent.com/shivshaktisahoo/test/main/Real%20estate.csv\")\n",
        "dataset2.head()"
      ],
      "execution_count": null,
      "outputs": [
        {
          "output_type": "execute_result",
          "data": {
            "text/html": [
              "<div>\n",
              "<style scoped>\n",
              "    .dataframe tbody tr th:only-of-type {\n",
              "        vertical-align: middle;\n",
              "    }\n",
              "\n",
              "    .dataframe tbody tr th {\n",
              "        vertical-align: top;\n",
              "    }\n",
              "\n",
              "    .dataframe thead th {\n",
              "        text-align: right;\n",
              "    }\n",
              "</style>\n",
              "<table border=\"1\" class=\"dataframe\">\n",
              "  <thead>\n",
              "    <tr style=\"text-align: right;\">\n",
              "      <th></th>\n",
              "      <th>No</th>\n",
              "      <th>X1 transaction date</th>\n",
              "      <th>X2 house age</th>\n",
              "      <th>X3 distance to the nearest MRT station</th>\n",
              "      <th>X4 number of convenience stores</th>\n",
              "      <th>X5 latitude</th>\n",
              "      <th>X6 longitude</th>\n",
              "      <th>Y house price of unit area</th>\n",
              "    </tr>\n",
              "  </thead>\n",
              "  <tbody>\n",
              "    <tr>\n",
              "      <th>0</th>\n",
              "      <td>1</td>\n",
              "      <td>2012.917</td>\n",
              "      <td>32.0</td>\n",
              "      <td>84.87882</td>\n",
              "      <td>10</td>\n",
              "      <td>24.98298</td>\n",
              "      <td>121.54024</td>\n",
              "      <td>37.9</td>\n",
              "    </tr>\n",
              "    <tr>\n",
              "      <th>1</th>\n",
              "      <td>2</td>\n",
              "      <td>2012.917</td>\n",
              "      <td>19.5</td>\n",
              "      <td>306.59470</td>\n",
              "      <td>9</td>\n",
              "      <td>24.98034</td>\n",
              "      <td>121.53951</td>\n",
              "      <td>42.2</td>\n",
              "    </tr>\n",
              "    <tr>\n",
              "      <th>2</th>\n",
              "      <td>3</td>\n",
              "      <td>2013.583</td>\n",
              "      <td>13.3</td>\n",
              "      <td>561.98450</td>\n",
              "      <td>5</td>\n",
              "      <td>24.98746</td>\n",
              "      <td>121.54391</td>\n",
              "      <td>47.3</td>\n",
              "    </tr>\n",
              "    <tr>\n",
              "      <th>3</th>\n",
              "      <td>4</td>\n",
              "      <td>2013.500</td>\n",
              "      <td>13.3</td>\n",
              "      <td>561.98450</td>\n",
              "      <td>5</td>\n",
              "      <td>24.98746</td>\n",
              "      <td>121.54391</td>\n",
              "      <td>54.8</td>\n",
              "    </tr>\n",
              "    <tr>\n",
              "      <th>4</th>\n",
              "      <td>5</td>\n",
              "      <td>2012.833</td>\n",
              "      <td>5.0</td>\n",
              "      <td>390.56840</td>\n",
              "      <td>5</td>\n",
              "      <td>24.97937</td>\n",
              "      <td>121.54245</td>\n",
              "      <td>43.1</td>\n",
              "    </tr>\n",
              "  </tbody>\n",
              "</table>\n",
              "</div>"
            ],
            "text/plain": [
              "   No  X1 transaction date  ...  X6 longitude  Y house price of unit area\n",
              "0   1             2012.917  ...     121.54024                        37.9\n",
              "1   2             2012.917  ...     121.53951                        42.2\n",
              "2   3             2013.583  ...     121.54391                        47.3\n",
              "3   4             2013.500  ...     121.54391                        54.8\n",
              "4   5             2012.833  ...     121.54245                        43.1\n",
              "\n",
              "[5 rows x 8 columns]"
            ]
          },
          "metadata": {
            "tags": []
          },
          "execution_count": 8
        }
      ]
    },
    {
      "cell_type": "code",
      "metadata": {
        "colab": {
          "base_uri": "https://localhost:8080/"
        },
        "id": "oxeSY2jlJB27",
        "outputId": "5d30a60d-3b1d-4248-98ab-dd8ff7de746a"
      },
      "source": [
        "x = dataset2['X2 house age']\n",
        "y = dataset2['X3 distance to the nearest MRT station']\n",
        "sum1 = 0 \n",
        "sum2 = 0\n",
        "for i in range(len(dataset2)):\n",
        "  sum1 += (x[i] - x.mean()) * (y[i] - y.mean())\n",
        "  sum2 += (x[i] - x.mean())**2 \n",
        "m = sum1/sum2\n",
        "c = y.mean() - m*x.mean()\n",
        "print(f\"Slope(m) = {m}\\nIntercept(c) = {c}\")\n",
        "\n",
        "x_minval = x.min()-1\n",
        "x_maxval = x.max()+1\n",
        "plot_x = np.linspace(x_minval,x_maxval,10)\n",
        "plot_y = m * plot_x + c\n",
        "print(plot_x)\n",
        "print(plot_y)"
      ],
      "execution_count": null,
      "outputs": [
        {
          "output_type": "stream",
          "text": [
            "Slope(m) = 2.838523215559354\n",
            "Intercept(c) = 1033.6081750490418\n",
            "[-1.          4.08888889  9.17777778 14.26666667 19.35555556 24.44444444\n",
            " 29.53333333 34.62222222 39.71111111 44.8       ]\n",
            "[1030.76965183 1045.21458109 1059.65951034 1074.10443959 1088.54936884\n",
            " 1102.9942981  1117.43922735 1131.8841566  1146.32908585 1160.77401511]\n"
          ],
          "name": "stdout"
        }
      ]
    },
    {
      "cell_type": "code",
      "metadata": {
        "colab": {
          "base_uri": "https://localhost:8080/",
          "height": 361
        },
        "id": "tJDdrN6QJBvx",
        "outputId": "fce8a3e9-90df-4977-f614-39d1c50e5b38"
      },
      "source": [
        "plt.plot(plot_x,plot_y,color=\"green\")\n",
        "plt.scatter(x,y)\n",
        "plt.title(\"Real estate price prediction :\", color=\"Red\", size=20)\n",
        "plt.xticks(size=12)\n",
        "plt.yticks(size=12)\n",
        "plt.xlabel(\"X2 house age -------->\",c='Brown', size=13)\n",
        "plt.ylabel(\"X3 distance to the nearest MRT station --->\",c='Brown', size=13)\n",
        "plt.grid()\n",
        "plt.show()"
      ],
      "execution_count": null,
      "outputs": [
        {
          "output_type": "display_data",
          "data": {
            "image/png": "[encoded data removed]",
            "text/plain": [
              "<Figure size 1080x360 with 1 Axes>"
            ]
          },
          "metadata": {
            "tags": [],
            "needs_background": "light"
          }
        }
      ]
    },
    {
      "cell_type": "code",
      "metadata": {
        "colab": {
          "base_uri": "https://localhost:8080/"
        },
        "id": "RT3db6taJBtH",
        "outputId": "003a1a94-f1c6-46d6-b3df-5acd8c12e873"
      },
      "source": [
        "def predict(x):\n",
        "  return round(m*x+c)\n",
        "def  error(y_actual, y_predicted):\n",
        "  err = abs(y_actual - y_predicted)\n",
        "  return round((err/y_actual)*100)\n",
        "arr1 = np.array([])\n",
        "for x1, y1 in zip(x,y):\n",
        "  # print(f\"Prediction is {predict(x1)} actual is {y1}, ERROR : {error(y1,predict(x1))}%\")\n",
        "  arr1 = np.append(arr1,error(y1,predict(x1)))\n",
        "# print(arr1)\n",
        "accuracy = 100 - arr1.mean()\n",
        "print(f\"Accuracy of model is {accuracy}\")"
      ],
      "execution_count": null,
      "outputs": [
        {
          "output_type": "stream",
          "text": [
            "Accuracy of model is -158.0217391304348\n"
          ],
          "name": "stdout"
        }
      ]
    },
    {
      "cell_type": "code",
      "metadata": {
        "id": "A3V0OjNSJBp7"
      },
      "source": [
        ""
      ],
      "execution_count": null,
      "outputs": []
    },
    {
      "cell_type": "markdown",
      "metadata": {
        "id": "sFTqE-S5Exms"
      },
      "source": [
        "# 3. Medical Cost Personal Datasets"
      ]
    },
    {
      "cell_type": "code",
      "metadata": {
        "colab": {
          "base_uri": "https://localhost:8080/",
          "height": 419
        },
        "id": "3D6hRNM2E0ms",
        "outputId": "fa9930a4-61d9-4025-fa19-dc97ece4650e"
      },
      "source": [
        "dataset3 = pd.read_csv(\"https://raw.githubusercontent.com/shivshaktisahoo/test/main/insurance.csv\")\n",
        "dataset3"
      ],
      "execution_count": null,
      "outputs": [
        {
          "output_type": "execute_result",
          "data": {
            "text/html": [
              "<div>\n",
              "<style scoped>\n",
              "    .dataframe tbody tr th:only-of-type {\n",
              "        vertical-align: middle;\n",
              "    }\n",
              "\n",
              "    .dataframe tbody tr th {\n",
              "        vertical-align: top;\n",
              "    }\n",
              "\n",
              "    .dataframe thead th {\n",
              "        text-align: right;\n",
              "    }\n",
              "</style>\n",
              "<table border=\"1\" class=\"dataframe\">\n",
              "  <thead>\n",
              "    <tr style=\"text-align: right;\">\n",
              "      <th></th>\n",
              "      <th>age</th>\n",
              "      <th>sex</th>\n",
              "      <th>bmi</th>\n",
              "      <th>children</th>\n",
              "      <th>smoker</th>\n",
              "      <th>region</th>\n",
              "      <th>charges</th>\n",
              "    </tr>\n",
              "  </thead>\n",
              "  <tbody>\n",
              "    <tr>\n",
              "      <th>0</th>\n",
              "      <td>19</td>\n",
              "      <td>female</td>\n",
              "      <td>27.900</td>\n",
              "      <td>0</td>\n",
              "      <td>yes</td>\n",
              "      <td>southwest</td>\n",
              "      <td>16884.92400</td>\n",
              "    </tr>\n",
              "    <tr>\n",
              "      <th>1</th>\n",
              "      <td>18</td>\n",
              "      <td>male</td>\n",
              "      <td>33.770</td>\n",
              "      <td>1</td>\n",
              "      <td>no</td>\n",
              "      <td>southeast</td>\n",
              "      <td>1725.55230</td>\n",
              "    </tr>\n",
              "    <tr>\n",
              "      <th>2</th>\n",
              "      <td>28</td>\n",
              "      <td>male</td>\n",
              "      <td>33.000</td>\n",
              "      <td>3</td>\n",
              "      <td>no</td>\n",
              "      <td>southeast</td>\n",
              "      <td>4449.46200</td>\n",
              "    </tr>\n",
              "    <tr>\n",
              "      <th>3</th>\n",
              "      <td>33</td>\n",
              "      <td>male</td>\n",
              "      <td>22.705</td>\n",
              "      <td>0</td>\n",
              "      <td>no</td>\n",
              "      <td>northwest</td>\n",
              "      <td>21984.47061</td>\n",
              "    </tr>\n",
              "    <tr>\n",
              "      <th>4</th>\n",
              "      <td>32</td>\n",
              "      <td>male</td>\n",
              "      <td>28.880</td>\n",
              "      <td>0</td>\n",
              "      <td>no</td>\n",
              "      <td>northwest</td>\n",
              "      <td>3866.85520</td>\n",
              "    </tr>\n",
              "    <tr>\n",
              "      <th>...</th>\n",
              "      <td>...</td>\n",
              "      <td>...</td>\n",
              "      <td>...</td>\n",
              "      <td>...</td>\n",
              "      <td>...</td>\n",
              "      <td>...</td>\n",
              "      <td>...</td>\n",
              "    </tr>\n",
              "    <tr>\n",
              "      <th>1333</th>\n",
              "      <td>50</td>\n",
              "      <td>male</td>\n",
              "      <td>30.970</td>\n",
              "      <td>3</td>\n",
              "      <td>no</td>\n",
              "      <td>northwest</td>\n",
              "      <td>10600.54830</td>\n",
              "    </tr>\n",
              "    <tr>\n",
              "      <th>1334</th>\n",
              "      <td>18</td>\n",
              "      <td>female</td>\n",
              "      <td>31.920</td>\n",
              "      <td>0</td>\n",
              "      <td>no</td>\n",
              "      <td>northeast</td>\n",
              "      <td>2205.98080</td>\n",
              "    </tr>\n",
              "    <tr>\n",
              "      <th>1335</th>\n",
              "      <td>18</td>\n",
              "      <td>female</td>\n",
              "      <td>36.850</td>\n",
              "      <td>0</td>\n",
              "      <td>no</td>\n",
              "      <td>southeast</td>\n",
              "      <td>1629.83350</td>\n",
              "    </tr>\n",
              "    <tr>\n",
              "      <th>1336</th>\n",
              "      <td>21</td>\n",
              "      <td>female</td>\n",
              "      <td>25.800</td>\n",
              "      <td>0</td>\n",
              "      <td>no</td>\n",
              "      <td>southwest</td>\n",
              "      <td>2007.94500</td>\n",
              "    </tr>\n",
              "    <tr>\n",
              "      <th>1337</th>\n",
              "      <td>61</td>\n",
              "      <td>female</td>\n",
              "      <td>29.070</td>\n",
              "      <td>0</td>\n",
              "      <td>yes</td>\n",
              "      <td>northwest</td>\n",
              "      <td>29141.36030</td>\n",
              "    </tr>\n",
              "  </tbody>\n",
              "</table>\n",
              "<p>1338 rows × 7 columns</p>\n",
              "</div>"
            ],
            "text/plain": [
              "      age     sex     bmi  children smoker     region      charges\n",
              "0      19  female  27.900         0    yes  southwest  16884.92400\n",
              "1      18    male  33.770         1     no  southeast   1725.55230\n",
              "2      28    male  33.000         3     no  southeast   4449.46200\n",
              "3      33    male  22.705         0     no  northwest  21984.47061\n",
              "4      32    male  28.880         0     no  northwest   3866.85520\n",
              "...   ...     ...     ...       ...    ...        ...          ...\n",
              "1333   50    male  30.970         3     no  northwest  10600.54830\n",
              "1334   18  female  31.920         0     no  northeast   2205.98080\n",
              "1335   18  female  36.850         0     no  southeast   1629.83350\n",
              "1336   21  female  25.800         0     no  southwest   2007.94500\n",
              "1337   61  female  29.070         0    yes  northwest  29141.36030\n",
              "\n",
              "[1338 rows x 7 columns]"
            ]
          },
          "metadata": {
            "tags": []
          },
          "execution_count": 12
        }
      ]
    },
    {
      "cell_type": "code",
      "metadata": {
        "colab": {
          "base_uri": "https://localhost:8080/"
        },
        "id": "4fPe8gPqLi_K",
        "outputId": "52193904-9108-4e33-ce54-cd58a1a91cc0"
      },
      "source": [
        "x = dataset3['bmi']\n",
        "y = dataset3['charges']\n",
        "sum1 = 0 \n",
        "sum2 = 0\n",
        "for i in range(len(dataset3)):\n",
        "  sum1 += (x[i] - x.mean()) * (y[i] - y.mean())\n",
        "  sum2 += (x[i] - x.mean())**2 \n",
        "\n",
        "m = sum1/sum2\n",
        "c = y.mean() - m*x.mean()\n",
        "print(f\"Slope(m) = {m}\\nIntercept(c) = {c}\")\n",
        "\n",
        "x_minval = x.min()-1\n",
        "x_maxval = x.max()+1\n",
        "plot_x = np.linspace(x_minval,x_maxval,10)\n",
        "plot_y = m * plot_x + c\n",
        "print(plot_x)\n",
        "print(plot_y)"
      ],
      "execution_count": null,
      "outputs": [
        {
          "output_type": "stream",
          "text": [
            "Slope(m) = 393.87303079739513\n",
            "Intercept(c) = 1192.937208961157\n",
            "[14.96       19.31222222 23.66444444 28.01666667 32.36888889 36.72111111\n",
            " 41.07333333 45.42555556 49.77777778 54.13      ]\n",
            "[ 7085.27774969  8799.50070706 10513.72366443 12227.9466218\n",
            " 13942.16957917 15656.39253654 17370.61549391 19084.83845128\n",
            " 20799.06140865 22513.28436602]\n"
          ],
          "name": "stdout"
        }
      ]
    },
    {
      "cell_type": "code",
      "metadata": {
        "colab": {
          "base_uri": "https://localhost:8080/",
          "height": 363
        },
        "id": "0ebgRRtmLi5C",
        "outputId": "bf96e2ba-55f3-43ae-c7cd-f384bcedeac3"
      },
      "source": [
        "plt.plot(plot_x,plot_y,color=\"green\")\n",
        "plt.scatter(x,y)\n",
        "plt.title(\"Medical Cost Personal prediction :\", color=\"Red\", size=20)\n",
        "plt.xticks(size=12)\n",
        "plt.yticks(size=12)\n",
        "plt.xlabel(\"BMI -------->\",c='Brown', size=15)\n",
        "plt.ylabel(\"Charges--------->\",c='Brown', size=15)\n",
        "plt.grid()\n",
        "plt.show()"
      ],
      "execution_count": null,
      "outputs": [
        {
          "output_type": "display_data",
          "data": {
            "image/png": "[encoded data removed]",
            "text/plain": [
              "<Figure size 1080x360 with 1 Axes>"
            ]
          },
          "metadata": {
            "tags": [],
            "needs_background": "light"
          }
        }
      ]
    },
    {
      "cell_type": "code",
      "metadata": {
        "colab": {
          "base_uri": "https://localhost:8080/"
        },
        "id": "22MqOlA0Li2D",
        "outputId": "d0f81dbf-bfa1-4fc0-fddc-84ab15559374"
      },
      "source": [
        "def predict(x):\n",
        "  return round(m*x+c)\n",
        "def  error(y_actual, y_predicted):\n",
        "  err = abs(y_actual - y_predicted)\n",
        "  return round((err/y_actual)*100)\n",
        "arr1 = np.array([])\n",
        "for x1, y1 in zip(x,y):\n",
        "  # print(f\"Prediction is {predict(x1)} actual is {y1}, ERROR : {error(y1,predict(x1))}%\")\n",
        "  arr1 = np.append(arr1,error(y1,predict(x1)))\n",
        "# print(arr1)\n",
        "accuracy = 100 - arr1.mean()\n",
        "print(f\"Accuracy of model is {accuracy}\")"
      ],
      "execution_count": null,
      "outputs": [
        {
          "output_type": "stream",
          "text": [
            "Accuracy of model is -50.89985052316891\n"
          ],
          "name": "stdout"
        }
      ]
    }
  ]
}